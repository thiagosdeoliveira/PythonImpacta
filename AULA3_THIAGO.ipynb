{
 "cells": [
  {
   "cell_type": "code",
   "execution_count": 7,
   "id": "6225c455-0b06-4816-92f8-bb59083ee601",
   "metadata": {},
   "outputs": [],
   "source": [
    "salada = \"alface com tomate\"\n",
    "#         0123456789...\n",
    "#A 1a info é sempre 0 (contagem é a partir de 0)"
   ]
  },
  {
   "cell_type": "code",
   "execution_count": 19,
   "id": "b197d7c8-0fc6-4e4a-8874-3bf0544bb810",
   "metadata": {},
   "outputs": [
    {
     "data": {
      "text/plain": [
       "'a'"
      ]
     },
     "execution_count": 19,
     "metadata": {},
     "output_type": "execute_result"
    }
   ],
   "source": [
    "salada[0]\n",
    "#localizar o caracter 0"
   ]
  },
  {
   "cell_type": "code",
   "execution_count": 5,
   "id": "5afe3adf-64d8-4390-b8e0-47c966e75d15",
   "metadata": {},
   "outputs": [
    {
     "data": {
      "text/plain": [
       "'e'"
      ]
     },
     "execution_count": 5,
     "metadata": {},
     "output_type": "execute_result"
    }
   ],
   "source": [
    "salada[5]\n",
    "#localizar o caracter 5"
   ]
  },
  {
   "cell_type": "code",
   "execution_count": 9,
   "id": "70460703-6d27-4c3c-b374-b3c6475a8abb",
   "metadata": {},
   "outputs": [
    {
     "data": {
      "text/plain": [
       "'alfa'"
      ]
     },
     "execution_count": 9,
     "metadata": {},
     "output_type": "execute_result"
    }
   ],
   "source": [
    "salada[0:4]\n",
    "#localizar o intervalo de 0 a 4 porem não puxa o 4 por ser intervalo aberto"
   ]
  },
  {
   "cell_type": "code",
   "execution_count": 11,
   "id": "5d1cbe31-f8ca-4866-8dde-a614e8d6ca40",
   "metadata": {},
   "outputs": [
    {
     "data": {
      "text/plain": [
       "'com'"
      ]
     },
     "execution_count": 11,
     "metadata": {},
     "output_type": "execute_result"
    }
   ],
   "source": [
    "salada[7:10]\n",
    "#localizar o intervalo de 7 a 10 porem não puxa o 10 por ser intervalo aberto"
   ]
  },
  {
   "cell_type": "code",
   "execution_count": 13,
   "id": "c3c83e6f-cf97-4965-b6f1-0a43c2737963",
   "metadata": {},
   "outputs": [
    {
     "data": {
      "text/plain": [
       "'tomate'"
      ]
     },
     "execution_count": 13,
     "metadata": {},
     "output_type": "execute_result"
    }
   ],
   "source": [
    "salada[11:17]\n",
    "#localizar o intervalo de 11 a 17 porem não puxa o 17 por ser intervalo aberto"
   ]
  },
  {
   "cell_type": "code",
   "execution_count": 21,
   "id": "120d6648-6ca8-4847-afe6-9760b89aba7c",
   "metadata": {},
   "outputs": [
    {
     "data": {
      "text/plain": [
       "'afc o'"
      ]
     },
     "execution_count": 21,
     "metadata": {},
     "output_type": "execute_result"
    }
   ],
   "source": [
    "salada[0:10:2]\n",
    "#localizar o intervalo de 0 a 10 porem não puxa o 10 por ser intervalo aberto\n",
    "#e pulando de 2 em 2 caracter\n",
    "\n",
    "#| a | l | f | a | c | e  |  | c | o | m |    | t  |  o |  m  | a |  t | e\n",
    "#| 0 | 1 | 2 | 3 | 4 | 5 | 6 | 7 | 8 | 9 | 10 | 11 | 12 | 13 | 14 | 15 | 16 "
   ]
  },
  {
   "cell_type": "code",
   "execution_count": 23,
   "id": "3b09d6da-82fc-482a-bc92-df85d8daf313",
   "metadata": {},
   "outputs": [
    {
     "data": {
      "text/plain": [
       "'e'"
      ]
     },
     "execution_count": 23,
     "metadata": {},
     "output_type": "execute_result"
    }
   ],
   "source": [
    "salada [-1]\n",
    "#localizar a ultimo caracter "
   ]
  },
  {
   "cell_type": "code",
   "execution_count": 33,
   "id": "98408643-f38d-42a2-8a8d-4b15b00e7227",
   "metadata": {},
   "outputs": [],
   "source": [
    "#Exercicios\n",
    "#1 - Crie uma variavel com seu nome completo\n",
    "#2 - Escreva a variavel em lowercase\n",
    "#3 - Esreva em uppercase\n",
    "#4 - Verifique se o nome comeca com a Letra P\n",
    "#5-  Verifique se o nome termina com a Letra J\n",
    "#6 - Fatie a string para apenas 1 nome\n",
    "#7 - Considerando os espaços, qual o tamanho do seu nome? \n",
    "#8 - Fatie a string de 2 em 2"
   ]
  },
  {
   "cell_type": "code",
   "execution_count": 47,
   "id": "ca8a531f-7931-473f-9377-3d7d8a72efae",
   "metadata": {},
   "outputs": [],
   "source": [
    "#Resposta 1\n",
    "Nome = \"Thiago Santana de Oliveira\""
   ]
  },
  {
   "cell_type": "code",
   "execution_count": 45,
   "id": "e33ec945-a313-4d4c-ab49-645127a6061b",
   "metadata": {
    "panel-layout": {
     "height": 0,
     "visible": true,
     "width": 100
    }
   },
   "outputs": [
    {
     "name": "stdout",
     "output_type": "stream",
     "text": [
      "thiago santana de oliveira\n"
     ]
    }
   ],
   "source": [
    "#Reposta 2\n",
    "print(Nome.lower())"
   ]
  },
  {
   "cell_type": "code",
   "execution_count": 49,
   "id": "877442fd-c3f7-4f7b-80c4-90967917f270",
   "metadata": {
    "panel-layout": {
     "height": 0,
     "visible": true,
     "width": 100
    }
   },
   "outputs": [
    {
     "name": "stdout",
     "output_type": "stream",
     "text": [
      "THIAGO SANTANA DE OLIVEIRA\n"
     ]
    }
   ],
   "source": [
    "#Resposta 3\n",
    "print(Nome.upper())"
   ]
  },
  {
   "cell_type": "code",
   "execution_count": 53,
   "id": "793c3f6e-7049-416d-9dc5-22993d9624ec",
   "metadata": {
    "panel-layout": {
     "height": 27.137500762939453,
     "visible": true,
     "width": 100
    }
   },
   "outputs": [
    {
     "data": {
      "text/plain": [
       "False"
      ]
     },
     "execution_count": 53,
     "metadata": {},
     "output_type": "execute_result"
    }
   ],
   "source": [
    "#Resposta 4\n",
    "Nome.startswith ('P')"
   ]
  },
  {
   "cell_type": "code",
   "execution_count": 65,
   "id": "5ce5e69d-aa4f-4852-b426-ac68611fe5e8",
   "metadata": {
    "panel-layout": {
     "height": 27.137500762939453,
     "visible": true,
     "width": 100
    }
   },
   "outputs": [
    {
     "data": {
      "text/plain": [
       "False"
      ]
     },
     "execution_count": 65,
     "metadata": {},
     "output_type": "execute_result"
    }
   ],
   "source": [
    "#Resposta 5\n",
    "Nome.endswith ('J')"
   ]
  },
  {
   "cell_type": "code",
   "execution_count": 61,
   "id": "696d9632-68e6-4c99-80fd-4ed4beb89e61",
   "metadata": {
    "panel-layout": {
     "height": 51.13750076293945,
     "visible": true,
     "width": 100
    }
   },
   "outputs": [
    {
     "data": {
      "text/plain": [
       "'Thiago'"
      ]
     },
     "execution_count": 61,
     "metadata": {},
     "output_type": "execute_result"
    }
   ],
   "source": [
    "#Resposta 6\n",
    "Nome[0:6]"
   ]
  },
  {
   "cell_type": "code",
   "execution_count": 77,
   "id": "b7cf9afe-c377-4693-943e-493ebe358249",
   "metadata": {},
   "outputs": [
    {
     "data": {
      "text/plain": [
       "26"
      ]
     },
     "execution_count": 77,
     "metadata": {},
     "output_type": "execute_result"
    }
   ],
   "source": [
    "#Resposta 7\n",
    "len(Nome)\n",
    "#len = núm.caract"
   ]
  },
  {
   "cell_type": "code",
   "execution_count": 81,
   "id": "c0d4439b-4dd0-4931-9165-3be2dd4fe1a9",
   "metadata": {},
   "outputs": [
    {
     "data": {
      "text/plain": [
       "'Tig atn eOier'"
      ]
     },
     "execution_count": 81,
     "metadata": {},
     "output_type": "execute_result"
    }
   ],
   "source": [
    "#Resposta 8\n",
    "Nome[:len(Nome):2]\n",
    "#Combinando string para encontrar,"
   ]
  },
  {
   "cell_type": "code",
   "execution_count": 83,
   "id": "ccba3f30-2cec-468e-9850-820a23b6eb8a",
   "metadata": {
    "panel-layout": {
     "height": 51.13750076293945,
     "visible": true,
     "width": 100
    }
   },
   "outputs": [
    {
     "data": {
      "text/plain": [
       "'Tig atn eOier'"
      ]
     },
     "execution_count": 83,
     "metadata": {},
     "output_type": "execute_result"
    }
   ],
   "source": [
    "#outra forma que vc pode colocar é Vazio:vazio:qtd de passo\n",
    "Nome[::2]"
   ]
  },
  {
   "cell_type": "code",
   "execution_count": 111,
   "id": "c50823de-647f-4432-bc4e-dd3fefc98458",
   "metadata": {
    "scrolled": true
   },
   "outputs": [],
   "source": [
    "# - - - - - - - - - - - - - - - - - - - - - - - - - - - - - - - - - - - - - - - - - - - - - - - - - - - - - - - - - - -"
   ]
  },
  {
   "cell_type": "code",
   "execution_count": 87,
   "id": "6781dd68-373f-4a56-a44e-69854c17e7f8",
   "metadata": {},
   "outputs": [],
   "source": [
    "#Listas"
   ]
  },
  {
   "cell_type": "code",
   "execution_count": 91,
   "id": "3952e7d0-19d7-46cc-b0a9-7a415e3220bb",
   "metadata": {},
   "outputs": [],
   "source": [
    "#Lista permite armazenar diversas variáveis de diversos tipos em uma variável só. \n",
    "#Exemplo"
   ]
  },
  {
   "cell_type": "code",
   "execution_count": 93,
   "id": "e3c71027-7908-4997-a595-c639df3c3094",
   "metadata": {},
   "outputs": [],
   "source": [
    "lista_compra = [\"banana\", \"pera\", \"laranja\"]"
   ]
  },
  {
   "cell_type": "code",
   "execution_count": 95,
   "id": "0260a50a-d619-4273-8dc0-d479a36df249",
   "metadata": {
    "panel-layout": {
     "height": 117.75,
     "visible": true,
     "width": 100
    }
   },
   "outputs": [
    {
     "data": {
      "text/plain": [
       "['banana', 'pera', 'laranja']"
      ]
     },
     "execution_count": 95,
     "metadata": {},
     "output_type": "execute_result"
    }
   ],
   "source": [
    "lista_compra"
   ]
  },
  {
   "cell_type": "code",
   "execution_count": 101,
   "id": "bfdd07d4-8f7a-4aa9-a851-ca9c2ee6f94a",
   "metadata": {},
   "outputs": [],
   "source": [
    "lista_coisas = [\"Patricia\", 47, \"abobrinha\", 3.14, 1+1j]"
   ]
  },
  {
   "cell_type": "code",
   "execution_count": 105,
   "id": "ae3ef721-5264-4074-9ad1-021e8a152bfe",
   "metadata": {
    "panel-layout": {
     "height": 27.137500762939453,
     "visible": true,
     "width": 100
    }
   },
   "outputs": [
    {
     "data": {
      "text/plain": [
       "['Patricia', 47, 'abobrinha', 3.14, (1+1j)]"
      ]
     },
     "execution_count": 105,
     "metadata": {},
     "output_type": "execute_result"
    }
   ],
   "source": [
    "lista_coisas"
   ]
  },
  {
   "cell_type": "code",
   "execution_count": 113,
   "id": "2a50e059-1882-4721-b74b-72a358c31e6c",
   "metadata": {
    "panel-layout": {
     "height": 51.13750076293945,
     "visible": true,
     "width": 100
    }
   },
   "outputs": [
    {
     "data": {
      "text/plain": [
       "'banana'"
      ]
     },
     "execution_count": 113,
     "metadata": {},
     "output_type": "execute_result"
    }
   ],
   "source": [
    "lista_compra[0]"
   ]
  },
  {
   "cell_type": "code",
   "execution_count": 115,
   "id": "bf29f296-8a52-4457-a0f7-7bf355df198e",
   "metadata": {
    "panel-layout": {
     "height": 51.13750076293945,
     "visible": true,
     "width": 100
    }
   },
   "outputs": [
    {
     "data": {
      "text/plain": [
       "'Patricia'"
      ]
     },
     "execution_count": 115,
     "metadata": {},
     "output_type": "execute_result"
    }
   ],
   "source": [
    "lista_coisas[0]"
   ]
  },
  {
   "cell_type": "code",
   "execution_count": 119,
   "id": "b0fca96c-567d-4d1a-acbd-42e75a309047",
   "metadata": {
    "panel-layout": {
     "height": 27.137500762939453,
     "visible": true,
     "width": 100
    }
   },
   "outputs": [
    {
     "data": {
      "text/plain": [
       "3"
      ]
     },
     "execution_count": 119,
     "metadata": {},
     "output_type": "execute_result"
    }
   ],
   "source": [
    "len(lista_compra)"
   ]
  },
  {
   "cell_type": "code",
   "execution_count": 121,
   "id": "43b01d46-d7d2-4dc5-8f8e-519cd2ecb160",
   "metadata": {
    "panel-layout": {
     "height": 27.137500762939453,
     "visible": true,
     "width": 100
    }
   },
   "outputs": [
    {
     "data": {
      "text/plain": [
       "5"
      ]
     },
     "execution_count": 121,
     "metadata": {},
     "output_type": "execute_result"
    }
   ],
   "source": [
    "len(lista_coisas)"
   ]
  },
  {
   "cell_type": "code",
   "execution_count": 123,
   "id": "88321e09-8003-43c3-8c4f-0d8135af9046",
   "metadata": {},
   "outputs": [],
   "source": [
    "lista2 = lista_coisas[0:3]"
   ]
  },
  {
   "cell_type": "code",
   "execution_count": 125,
   "id": "f1b4780d-a3cb-49fd-b2a2-6e4641b94fcd",
   "metadata": {
    "panel-layout": {
     "height": 100.61250305175781,
     "visible": true,
     "width": 100
    }
   },
   "outputs": [
    {
     "data": {
      "text/plain": [
       "['Patricia', 47, 'abobrinha']"
      ]
     },
     "execution_count": 125,
     "metadata": {},
     "output_type": "execute_result"
    }
   ],
   "source": [
    "lista2"
   ]
  },
  {
   "cell_type": "code",
   "execution_count": 127,
   "id": "ac28bc0a-1b32-49aa-a3d7-91b767cd2577",
   "metadata": {
    "panel-layout": {
     "height": 27.137500762939453,
     "visible": true,
     "width": 100
    }
   },
   "outputs": [
    {
     "data": {
      "text/plain": [
       "3"
      ]
     },
     "execution_count": 127,
     "metadata": {},
     "output_type": "execute_result"
    }
   ],
   "source": [
    "len(lista2)"
   ]
  },
  {
   "cell_type": "code",
   "execution_count": 129,
   "id": "944ffda3-5e21-4e43-8bee-9788367d59dc",
   "metadata": {},
   "outputs": [],
   "source": [
    "lista_geral = [lista_compra,lista_coisas,lista2]"
   ]
  },
  {
   "cell_type": "code",
   "execution_count": 131,
   "id": "49c9d681-b9cd-4519-b400-f0011b2b23e1",
   "metadata": {
    "panel-layout": {
     "height": 27.137500762939453,
     "visible": true,
     "width": 100
    }
   },
   "outputs": [
    {
     "data": {
      "text/plain": [
       "[['banana', 'pera', 'laranja'],\n",
       " ['Patricia', 47, 'abobrinha', 3.14, (1+1j)],\n",
       " ['Patricia', 47, 'abobrinha']]"
      ]
     },
     "execution_count": 131,
     "metadata": {},
     "output_type": "execute_result"
    }
   ],
   "source": [
    "lista_geral"
   ]
  },
  {
   "cell_type": "code",
   "execution_count": 141,
   "id": "89c82854-0dcb-48ae-811c-c995f11722d5",
   "metadata": {
    "panel-layout": {
     "height": 0,
     "visible": true,
     "width": 100
    }
   },
   "outputs": [],
   "source": [
    "#append - adiciona item na lista\n",
    "lista_compra.append(\"batata\")"
   ]
  },
  {
   "cell_type": "code",
   "execution_count": 135,
   "id": "1a79ad0f-5d8c-4e63-ab73-629b49a27633",
   "metadata": {
    "panel-layout": {
     "height": 117.75,
     "visible": true,
     "width": 100
    }
   },
   "outputs": [
    {
     "data": {
      "text/plain": [
       "['banana', 'pera', 'laranja', 'batata']"
      ]
     },
     "execution_count": 135,
     "metadata": {},
     "output_type": "execute_result"
    }
   ],
   "source": [
    "lista_compra"
   ]
  },
  {
   "cell_type": "code",
   "execution_count": 151,
   "id": "7295d4c7-8d30-4a8c-8130-9fae0dad7352",
   "metadata": {},
   "outputs": [],
   "source": [
    "supermercado = ' e '.join(lista_compra)\n",
    "#join = inseir caracter na string e concatena os itens de uma string"
   ]
  },
  {
   "cell_type": "code",
   "execution_count": 153,
   "id": "67bb78b8-36db-4511-bf82-da79e3f25008",
   "metadata": {
    "panel-layout": {
     "height": 51.13750076293945,
     "visible": true,
     "width": 100
    }
   },
   "outputs": [
    {
     "data": {
      "text/plain": [
       "'banana e pera e laranja e batata e batata e batata e batata'"
      ]
     },
     "execution_count": 153,
     "metadata": {},
     "output_type": "execute_result"
    }
   ],
   "source": [
    "supermercado"
   ]
  },
  {
   "cell_type": "code",
   "execution_count": 157,
   "id": "7703dabb-7c90-4f67-adf4-1a602d6b7ceb",
   "metadata": {},
   "outputs": [],
   "source": [
    "feira = \"batata, tomate, pepino\""
   ]
  },
  {
   "cell_type": "code",
   "execution_count": 159,
   "id": "fef0132d-afb3-426a-a2fb-b0634f00d383",
   "metadata": {
    "panel-layout": {
     "height": 51.13750076293945,
     "visible": true,
     "width": 100
    }
   },
   "outputs": [
    {
     "data": {
      "text/plain": [
       "'batata, tomate, pepino'"
      ]
     },
     "execution_count": 159,
     "metadata": {},
     "output_type": "execute_result"
    }
   ],
   "source": [
    "feira"
   ]
  },
  {
   "cell_type": "code",
   "execution_count": 173,
   "id": "9711d5a5-a74a-4ab3-9146-333854634227",
   "metadata": {},
   "outputs": [],
   "source": [
    "lista_feira = feira.split(', ')\n",
    "#split = separar uma frase pelo seu caracter igual \"texto para coluna\""
   ]
  },
  {
   "cell_type": "code",
   "execution_count": 163,
   "id": "597d4d0d-938d-4894-8bed-cafab2d98f36",
   "metadata": {
    "panel-layout": {
     "height": 100.61250305175781,
     "visible": true,
     "width": 100
    }
   },
   "outputs": [
    {
     "data": {
      "text/plain": [
       "['batata', 'tomate', 'pepino']"
      ]
     },
     "execution_count": 163,
     "metadata": {},
     "output_type": "execute_result"
    }
   ],
   "source": [
    "lista_feira"
   ]
  },
  {
   "cell_type": "code",
   "execution_count": 175,
   "id": "2a08c45e-1a47-43f3-9496-4d49ef5b96c2",
   "metadata": {},
   "outputs": [],
   "source": [
    "#Exercicios\n",
    "#1 - Crie uma lista de nomes de 4 times de futebol\n",
    "#2 - Acesse o time que esta na 3a posição\n",
    "#3 - Crie uma nova lista com duas listas de 3 times de futebol, cada uma de uma divisão diferente\n",
    "#4 - Crie uma lista com 3 diferentes moedas. Acrescente mais 2 outras moedas à essa lista\n",
    "#5-  Cris uma string com a lista do exercício anterior\n",
    "#6 - Agora utilize a string do exercicio 5 para recriar uma lista"
   ]
  },
  {
   "cell_type": "code",
   "execution_count": 177,
   "id": "319692ec-f07a-42f2-9db5-2cbc35aaf21c",
   "metadata": {},
   "outputs": [],
   "source": [
    "#Resposta 1\n",
    "SerieA = [\"Palmeiras\", \"Santos\", \"SPFC\", \"Curica\"]"
   ]
  },
  {
   "cell_type": "code",
   "execution_count": 179,
   "id": "bcd81de7-b808-474c-8287-8ef718c5e624",
   "metadata": {
    "panel-layout": {
     "height": 117.75,
     "visible": true,
     "width": 100
    }
   },
   "outputs": [
    {
     "data": {
      "text/plain": [
       "['Palmeiras', 'Santos', 'SPFC', 'Curica']"
      ]
     },
     "execution_count": 179,
     "metadata": {},
     "output_type": "execute_result"
    }
   ],
   "source": [
    "SerieA"
   ]
  },
  {
   "cell_type": "code",
   "execution_count": 185,
   "id": "655afea1-a6ec-47a2-b47a-8deb294f63d9",
   "metadata": {
    "panel-layout": {
     "height": 51.13750076293945,
     "visible": true,
     "width": 100
    }
   },
   "outputs": [
    {
     "data": {
      "text/plain": [
       "'SPFC'"
      ]
     },
     "execution_count": 185,
     "metadata": {},
     "output_type": "execute_result"
    }
   ],
   "source": [
    "#Resposta 2\n",
    "SerieA[2]"
   ]
  },
  {
   "cell_type": "code",
   "execution_count": 193,
   "id": "11510c68-7213-4a13-9bfa-4929f5f9443a",
   "metadata": {},
   "outputs": [],
   "source": [
    "#Resposta 3\n",
    "SerieB = [\"Avai\", \"Juventude\", \"Fortaleza\"]"
   ]
  },
  {
   "cell_type": "code",
   "execution_count": 195,
   "id": "96ef55fa-259f-4df0-a105-cf82ed1446d5",
   "metadata": {},
   "outputs": [],
   "source": [
    "CampeonatoBR = [SerieA,SerieB]"
   ]
  },
  {
   "cell_type": "code",
   "execution_count": 197,
   "id": "e29051f0-c5c5-49fb-82c1-ab3d60af2037",
   "metadata": {
    "panel-layout": {
     "height": 87.5999984741211,
     "visible": true,
     "width": 100
    }
   },
   "outputs": [
    {
     "data": {
      "text/plain": [
       "[['Palmeiras', 'Santos', 'SPFC', 'Curica'], ['Avai', 'Juventude', 'Fortaleza']]"
      ]
     },
     "execution_count": 197,
     "metadata": {},
     "output_type": "execute_result"
    }
   ],
   "source": [
    "CampeonatoBR"
   ]
  },
  {
   "cell_type": "code",
   "execution_count": 199,
   "id": "39884e6b-1d7a-490f-8d97-14f91f0aa884",
   "metadata": {},
   "outputs": [],
   "source": [
    "#Resposta 4\n",
    "Dindin = [\"Doleta\", \"Real\", \"Euro\"]"
   ]
  },
  {
   "cell_type": "code",
   "execution_count": 201,
   "id": "f5218128-d3c6-4318-903e-2bde255b99f7",
   "metadata": {
    "panel-layout": {
     "height": 134.8874969482422,
     "visible": true,
     "width": 100
    }
   },
   "outputs": [
    {
     "data": {
      "text/plain": [
       "['Doleta', 'Real', 'Euro']"
      ]
     },
     "execution_count": 201,
     "metadata": {},
     "output_type": "execute_result"
    }
   ],
   "source": [
    "Dindin"
   ]
  },
  {
   "cell_type": "code",
   "execution_count": 257,
   "id": "beb8d15c-84c2-4bb8-b683-47ae2327bea2",
   "metadata": {
    "panel-layout": {
     "height": 0,
     "visible": true,
     "width": 100
    }
   },
   "outputs": [],
   "source": [
    "Dindin.append('Yen')"
   ]
  },
  {
   "cell_type": "code",
   "execution_count": 255,
   "id": "ddd5ce97-7ff8-4cde-bbd5-05c51f17566e",
   "metadata": {
    "panel-layout": {
     "height": 0,
     "visible": true,
     "width": 100
    }
   },
   "outputs": [],
   "source": [
    "Dindin.append('Peso')"
   ]
  },
  {
   "cell_type": "code",
   "execution_count": 259,
   "id": "5b7bd883-0023-42d9-9228-5406b8553a1c",
   "metadata": {
    "panel-layout": {
     "height": 134.8874969482422,
     "visible": true,
     "width": 100
    }
   },
   "outputs": [
    {
     "data": {
      "text/plain": [
       "['Doleta',\n",
       " 'Real',\n",
       " 'Euro',\n",
       " 'Yen',\n",
       " 'Yen',\n",
       " 'Peso',\n",
       " 'Yen',\n",
       " 'Yen',\n",
       " 'Peso',\n",
       " 'Peso',\n",
       " 'Yen']"
      ]
     },
     "execution_count": 259,
     "metadata": {},
     "output_type": "execute_result"
    }
   ],
   "source": [
    "Dindin"
   ]
  },
  {
   "cell_type": "code",
   "execution_count": 239,
   "id": "b16a1950-fba7-4164-a2a5-3c5d7c68fc3e",
   "metadata": {},
   "outputs": [],
   "source": [
    "#Resposta 5\n",
    "Banco = ', '.join(Dindin)"
   ]
  },
  {
   "cell_type": "code",
   "execution_count": 241,
   "id": "d18407f8-5d80-427c-804a-fa06702a0061",
   "metadata": {
    "panel-layout": {
     "height": 51.13750076293945,
     "visible": true,
     "width": 100
    }
   },
   "outputs": [
    {
     "data": {
      "text/plain": [
       "'Doleta, Real, Euro, Yen, Yen, Peso, Yen'"
      ]
     },
     "execution_count": 241,
     "metadata": {},
     "output_type": "execute_result"
    }
   ],
   "source": [
    "Banco"
   ]
  },
  {
   "cell_type": "code",
   "execution_count": 243,
   "id": "94c49ccb-7ded-4dbb-b0f7-de6a439f1f9d",
   "metadata": {},
   "outputs": [],
   "source": [
    "#Resposta 6\n",
    "Carteira = Banco.split(', ')"
   ]
  },
  {
   "cell_type": "code",
   "execution_count": 245,
   "id": "f35723d9-162e-49a2-b75d-29a9e01ed93c",
   "metadata": {},
   "outputs": [
    {
     "data": {
      "text/plain": [
       "['Doleta', 'Real', 'Euro', 'Yen', 'Yen', 'Peso', 'Yen']"
      ]
     },
     "execution_count": 245,
     "metadata": {},
     "output_type": "execute_result"
    }
   ],
   "source": [
    "Carteira"
   ]
  },
  {
   "cell_type": "code",
   "execution_count": 261,
   "id": "6380f2fa-560d-4729-a347-8d0a6e821cdf",
   "metadata": {},
   "outputs": [],
   "source": [
    "# - - - - - - - - - - - - - - - - - - - - - - - - - - - - - - - - - - - - - - - - - - - - - - - - - - - - - - - - - - -"
   ]
  },
  {
   "cell_type": "code",
   "execution_count": 263,
   "id": "6ad4f08c-16d2-47bd-9c02-737a5aff9480",
   "metadata": {},
   "outputs": [],
   "source": [
    "lista_frutas = ['abacate', 'laranja', 'melancia']"
   ]
  },
  {
   "cell_type": "code",
   "execution_count": 265,
   "id": "639d94b8-3b13-4f0d-b32e-ff414b8c8ee1",
   "metadata": {},
   "outputs": [
    {
     "data": {
      "text/plain": [
       "['abacate', 'laranja', 'melancia']"
      ]
     },
     "execution_count": 265,
     "metadata": {},
     "output_type": "execute_result"
    }
   ],
   "source": [
    "lista_frutas"
   ]
  },
  {
   "cell_type": "code",
   "execution_count": 271,
   "id": "3e0a8af4-94ef-403e-bbdd-7c4c055bc4bc",
   "metadata": {},
   "outputs": [],
   "source": [
    "lista_frutas[0] = 'limão'\n",
    "#Essa senteça substitui item da lista. Sempre começa do ZERO"
   ]
  },
  {
   "cell_type": "code",
   "execution_count": 269,
   "id": "28d34cf0-b778-40d2-9deb-3f2a81605a2d",
   "metadata": {},
   "outputs": [
    {
     "data": {
      "text/plain": [
       "['limão', 'laranja', 'melancia']"
      ]
     },
     "execution_count": 269,
     "metadata": {},
     "output_type": "execute_result"
    }
   ],
   "source": [
    "lista_frutas"
   ]
  },
  {
   "cell_type": "code",
   "execution_count": 287,
   "id": "c25c7ddb-13cc-43d6-9dc9-c9d030e0e8a7",
   "metadata": {},
   "outputs": [],
   "source": [
    "tupla1 = (1, 3.14, 'abacate')"
   ]
  },
  {
   "cell_type": "code",
   "execution_count": 289,
   "id": "bdbfd468-fbfe-43d7-b32b-2c802c050786",
   "metadata": {},
   "outputs": [
    {
     "data": {
      "text/plain": [
       "(1, 3.14, 'abacate')"
      ]
     },
     "execution_count": 289,
     "metadata": {},
     "output_type": "execute_result"
    }
   ],
   "source": [
    "tupla1"
   ]
  },
  {
   "cell_type": "code",
   "execution_count": 295,
   "id": "cd1ef0f0-eb83-4bb2-afb6-16cf0bb9b05f",
   "metadata": {},
   "outputs": [],
   "source": [
    "tupla2 = 1, 3.14, 'abacate'"
   ]
  },
  {
   "cell_type": "code",
   "execution_count": 281,
   "id": "92c159b8-dd56-4972-9f71-596f6a2cef98",
   "metadata": {},
   "outputs": [
    {
     "data": {
      "text/plain": [
       "(1, 3.14, 'abacate')"
      ]
     },
     "execution_count": 281,
     "metadata": {},
     "output_type": "execute_result"
    }
   ],
   "source": [
    "tupla2"
   ]
  },
  {
   "cell_type": "code",
   "execution_count": 291,
   "id": "20dbfe12-87ef-4dde-b3b8-02317be4da65",
   "metadata": {},
   "outputs": [
    {
     "ename": "AttributeError",
     "evalue": "'tuple' object has no attribute 'append'",
     "output_type": "error",
     "traceback": [
      "\u001b[1;31m---------------------------------------------------------------------------\u001b[0m",
      "\u001b[1;31mAttributeError\u001b[0m                            Traceback (most recent call last)",
      "Cell \u001b[1;32mIn[291], line 1\u001b[0m\n\u001b[1;32m----> 1\u001b[0m tupla1\u001b[38;5;241m.\u001b[39mappend(\u001b[38;5;124m'\u001b[39m\u001b[38;5;124mlaranja\u001b[39m\u001b[38;5;124m'\u001b[39m)\n",
      "\u001b[1;31mAttributeError\u001b[0m: 'tuple' object has no attribute 'append'"
     ]
    }
   ],
   "source": [
    "tupla1.append('laranja')"
   ]
  },
  {
   "cell_type": "code",
   "execution_count": 297,
   "id": "5b0cc9a2-5335-4020-b567-6a66a2033536",
   "metadata": {},
   "outputs": [
    {
     "ename": "AttributeError",
     "evalue": "'tuple' object has no attribute 'append'",
     "output_type": "error",
     "traceback": [
      "\u001b[1;31m---------------------------------------------------------------------------\u001b[0m",
      "\u001b[1;31mAttributeError\u001b[0m                            Traceback (most recent call last)",
      "Cell \u001b[1;32mIn[297], line 1\u001b[0m\n\u001b[1;32m----> 1\u001b[0m tupla2\u001b[38;5;241m.\u001b[39mappend(\u001b[38;5;124m'\u001b[39m\u001b[38;5;124mlaranja\u001b[39m\u001b[38;5;124m'\u001b[39m)\n",
      "\u001b[1;31mAttributeError\u001b[0m: 'tuple' object has no attribute 'append'"
     ]
    }
   ],
   "source": [
    "tupla2.append('laranja')"
   ]
  },
  {
   "cell_type": "code",
   "execution_count": 305,
   "id": "fa5b2bcc-a840-440f-a51c-c5b1ade854c0",
   "metadata": {},
   "outputs": [],
   "source": [
    "\n",
    "# LISTA SEMPRE PRECISA []\n",
    "\n",
    "# TUPLA PODE TER () OU NADA - A GRANDE MAIORIA DAS VEZES COM ()\n",
    "# TUPLA SÃO PARA ELEMENTOS QUE NÃO MUDA TIPO UMA CHAVE\n",
    "\n",
    "# SET SEMPRE PRECISA DE {} \n",
    "# SET ORDENA, IMUTAVEÇ E REMOVE DUPLICADAS\n"
   ]
  },
  {
   "cell_type": "code",
   "execution_count": 307,
   "id": "f481fd4a-d023-4d2a-82d8-bc7f5f2a535e",
   "metadata": {},
   "outputs": [],
   "source": [
    "set1 = {1, 3.14, 5, 6, 7}\n",
    "set2 = {\"Pera\", \"Uva\", \"Maça\"}\n",
    "set3 = {1,1,1,2,2,3,3,4}"
   ]
  },
  {
   "cell_type": "code",
   "execution_count": 309,
   "id": "9031d358-cedf-4bb3-947a-fcfc0e6eea39",
   "metadata": {},
   "outputs": [
    {
     "data": {
      "text/plain": [
       "{1, 3.14, 5, 6, 7}"
      ]
     },
     "execution_count": 309,
     "metadata": {},
     "output_type": "execute_result"
    }
   ],
   "source": [
    "set1"
   ]
  },
  {
   "cell_type": "code",
   "execution_count": 311,
   "id": "a638e378-74ff-4540-9515-69ae5d9fb85e",
   "metadata": {},
   "outputs": [
    {
     "data": {
      "text/plain": [
       "{'Maça', 'Pera', 'Uva'}"
      ]
     },
     "execution_count": 311,
     "metadata": {},
     "output_type": "execute_result"
    }
   ],
   "source": [
    "set2"
   ]
  },
  {
   "cell_type": "code",
   "execution_count": 325,
   "id": "69b46b3b-8a03-4ab3-8020-63318508dc3b",
   "metadata": {},
   "outputs": [
    {
     "data": {
      "text/plain": [
       "{1, 2, 3, 4}"
      ]
     },
     "execution_count": 325,
     "metadata": {},
     "output_type": "execute_result"
    }
   ],
   "source": [
    "set3"
   ]
  },
  {
   "cell_type": "code",
   "execution_count": 327,
   "id": "bf90d04f-f6b6-423f-9323-479bf66df84d",
   "metadata": {},
   "outputs": [
    {
     "name": "stdout",
     "output_type": "stream",
     "text": [
      "{'Pera', 'Uva', 'Maça'}\n"
     ]
    }
   ],
   "source": [
    "print(set2)"
   ]
  },
  {
   "cell_type": "code",
   "execution_count": null,
   "id": "baa14147-c7e8-4def-aedc-1bb59f3b4750",
   "metadata": {},
   "outputs": [],
   "source": []
  }
 ],
 "metadata": {
  "kernelspec": {
   "display_name": "Python [conda env:base] *",
   "language": "python",
   "name": "conda-base-py"
  },
  "language_info": {
   "codemirror_mode": {
    "name": "ipython",
    "version": 3
   },
   "file_extension": ".py",
   "mimetype": "text/x-python",
   "name": "python",
   "nbconvert_exporter": "python",
   "pygments_lexer": "ipython3",
   "version": "3.12.7"
  },
  "panel-cell-order": [
   "e33ec945-a313-4d4c-ab49-645127a6061b",
   "877442fd-c3f7-4f7b-80c4-90967917f270",
   "793c3f6e-7049-416d-9dc5-22993d9624ec",
   "5ce5e69d-aa4f-4852-b426-ac68611fe5e8",
   "696d9632-68e6-4c99-80fd-4ed4beb89e61",
   "ccba3f30-2cec-468e-9850-820a23b6eb8a",
   "0260a50a-d619-4273-8dc0-d479a36df249",
   "ae3ef721-5264-4074-9ad1-021e8a152bfe",
   "2a50e059-1882-4721-b74b-72a358c31e6c",
   "bf29f296-8a52-4457-a0f7-7bf355df198e",
   "b0fca96c-567d-4d1a-acbd-42e75a309047",
   "43b01d46-d7d2-4dc5-8f8e-519cd2ecb160",
   "f1b4780d-a3cb-49fd-b2a2-6e4641b94fcd",
   "ac28bc0a-1b32-49aa-a3d7-91b767cd2577",
   "49c9d681-b9cd-4519-b400-f0011b2b23e1",
   "89c82854-0dcb-48ae-811c-c995f11722d5",
   "1a79ad0f-5d8c-4e63-ab73-629b49a27633",
   "67bb78b8-36db-4511-bf82-da79e3f25008",
   "fef0132d-afb3-426a-a2fb-b0634f00d383",
   "597d4d0d-938d-4894-8bed-cafab2d98f36",
   "bcd81de7-b808-474c-8287-8ef718c5e624",
   "655afea1-a6ec-47a2-b47a-8deb294f63d9",
   "e29051f0-c5c5-49fb-82c1-ab3d60af2037",
   "f5218128-d3c6-4318-903e-2bde255b99f7",
   "beb8d15c-84c2-4bb8-b683-47ae2327bea2",
   "ddd5ce97-7ff8-4cde-bbd5-05c51f17566e",
   "5b7bd883-0023-42d9-9228-5406b8553a1c",
   "d18407f8-5d80-427c-804a-fa06702a0061"
  ]
 },
 "nbformat": 4,
 "nbformat_minor": 5
}
