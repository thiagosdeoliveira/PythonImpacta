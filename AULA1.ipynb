{
 "cells": [
  {
   "cell_type": "code",
   "execution_count": 5,
   "id": "99a2ee5d-7dbb-458c-a9ed-642b1cf7abd2",
   "metadata": {},
   "outputs": [
    {
     "name": "stdout",
     "output_type": "stream",
     "text": [
      "hello word\n"
     ]
    }
   ],
   "source": [
    "print(\"hello word\")"
   ]
  },
  {
   "cell_type": "code",
   "execution_count": 9,
   "id": "9f116577-173d-45e0-a48b-baff5d2844f3",
   "metadata": {},
   "outputs": [],
   "source": [
    "#variaveis\n",
    "a = 10"
   ]
  },
  {
   "cell_type": "code",
   "execution_count": 11,
   "id": "9eedd1fe-c23b-4b54-b3a9-74f7b3e42344",
   "metadata": {},
   "outputs": [],
   "source": [
    "b = \"Thiago\""
   ]
  },
  {
   "cell_type": "code",
   "execution_count": 13,
   "id": "fd1294b2-c4ce-4958-9a67-2210bfe9f841",
   "metadata": {},
   "outputs": [],
   "source": [
    "c = 0.5"
   ]
  },
  {
   "cell_type": "code",
   "execution_count": 15,
   "id": "f178a8fc-0725-4468-851b-2ef7daa14c67",
   "metadata": {},
   "outputs": [
    {
     "data": {
      "text/plain": [
       "10"
      ]
     },
     "execution_count": 15,
     "metadata": {},
     "output_type": "execute_result"
    }
   ],
   "source": [
    "a"
   ]
  },
  {
   "cell_type": "code",
   "execution_count": 17,
   "id": "35a7287f-c5d9-4b05-9f45-63d1e60e7a53",
   "metadata": {},
   "outputs": [
    {
     "data": {
      "text/plain": [
       "'Thiago'"
      ]
     },
     "execution_count": 17,
     "metadata": {},
     "output_type": "execute_result"
    }
   ],
   "source": [
    "b"
   ]
  },
  {
   "cell_type": "code",
   "execution_count": 19,
   "id": "c90940af-aac5-418a-ad4a-9cc38622a2e2",
   "metadata": {},
   "outputs": [
    {
     "data": {
      "text/plain": [
       "0.5"
      ]
     },
     "execution_count": 19,
     "metadata": {},
     "output_type": "execute_result"
    }
   ],
   "source": [
    "c"
   ]
  },
  {
   "cell_type": "code",
   "execution_count": 21,
   "id": "3d15c32e-db4b-4f25-b432-a7e723f75767",
   "metadata": {},
   "outputs": [
    {
     "data": {
      "text/plain": [
       "'Thiago'"
      ]
     },
     "execution_count": 21,
     "metadata": {},
     "output_type": "execute_result"
    }
   ],
   "source": [
    "b"
   ]
  },
  {
   "cell_type": "code",
   "execution_count": 27,
   "id": "07f7adea-333d-42e3-b33d-efe5f7cfacf6",
   "metadata": {},
   "outputs": [
    {
     "name": "stdout",
     "output_type": "stream",
     "text": [
      "10 Thiago 0.5\n"
     ]
    }
   ],
   "source": [
    "print(a,b,c)"
   ]
  },
  {
   "cell_type": "code",
   "execution_count": 29,
   "id": "7704468a-39f0-4de6-9e06-c312acf7f381",
   "metadata": {},
   "outputs": [
    {
     "ename": "TypeError",
     "evalue": "unsupported operand type(s) for +: 'int' and 'str'",
     "output_type": "error",
     "traceback": [
      "\u001b[1;31m---------------------------------------------------------------------------\u001b[0m",
      "\u001b[1;31mTypeError\u001b[0m                                 Traceback (most recent call last)",
      "Cell \u001b[1;32mIn[29], line 1\u001b[0m\n\u001b[1;32m----> 1\u001b[0m \u001b[38;5;28mprint\u001b[39m(a\u001b[38;5;241m+\u001b[39mb)\n",
      "\u001b[1;31mTypeError\u001b[0m: unsupported operand type(s) for +: 'int' and 'str'"
     ]
    }
   ],
   "source": [
    "print(a+b)"
   ]
  },
  {
   "cell_type": "code",
   "execution_count": 31,
   "id": "37d5573d-865e-4d8d-b53c-d4d09c952017",
   "metadata": {},
   "outputs": [],
   "source": [
    "import keyword"
   ]
  },
  {
   "cell_type": "code",
   "execution_count": 33,
   "id": "079db0a9-d5c2-4093-bded-b7ab1c6d0fb5",
   "metadata": {},
   "outputs": [
    {
     "name": "stdout",
     "output_type": "stream",
     "text": [
      "['False', 'None', 'True', 'and', 'as', 'assert', 'async', 'await', 'break', 'class', 'continue', 'def', 'del', 'elif', 'else', 'except', 'finally', 'for', 'from', 'global', 'if', 'import', 'in', 'is', 'lambda', 'nonlocal', 'not', 'or', 'pass', 'raise', 'return', 'try', 'while', 'with', 'yield']\n"
     ]
    }
   ],
   "source": [
    "print"
   ]
  },
  {
   "cell_type": "code",
   "execution_count": 35,
   "id": "977aa66a-72f4-4fe9-a64c-b66715c3b762",
   "metadata": {},
   "outputs": [
    {
     "ename": "NameError",
     "evalue": "name 'keywowrd' is not defined",
     "output_type": "error",
     "traceback": [
      "\u001b[1;31m---------------------------------------------------------------------------\u001b[0m",
      "\u001b[1;31mNameError\u001b[0m                                 Traceback (most recent call last)",
      "Cell \u001b[1;32mIn[35], line 1\u001b[0m\n\u001b[1;32m----> 1\u001b[0m \u001b[38;5;28mprint\u001b[39m(keywowrd\u001b[38;5;241m.\u001b[39mkwlist)\n",
      "\u001b[1;31mNameError\u001b[0m: name 'keywowrd' is not defined"
     ]
    }
   ],
   "source": [
    "print(keywowrd.kwlist)"
   ]
  },
  {
   "cell_type": "code",
   "execution_count": 37,
   "id": "1daf9ab0-1bed-444c-8dbc-af0c71ea9380",
   "metadata": {},
   "outputs": [
    {
     "name": "stdout",
     "output_type": "stream",
     "text": [
      "['False', 'None', 'True', 'and', 'as', 'assert', 'async', 'await', 'break', 'class', 'continue', 'def', 'del', 'elif', 'else', 'except', 'finally', 'for', 'from', 'global', 'if', 'import', 'in', 'is', 'lambda', 'nonlocal', 'not', 'or', 'pass', 'raise', 'return', 'try', 'while', 'with', 'yield']\n"
     ]
    }
   ],
   "source": [
    "print(keyword.kwlist)"
   ]
  },
  {
   "cell_type": "code",
   "execution_count": 39,
   "id": "957cad09-a5a7-44cd-87ab-09bce348643b",
   "metadata": {},
   "outputs": [],
   "source": [
    "i = 2"
   ]
  },
  {
   "cell_type": "code",
   "execution_count": 41,
   "id": "6eff6207-c7a5-48bf-a944-8d2868cc26bd",
   "metadata": {},
   "outputs": [],
   "source": [
    "j = 5"
   ]
  },
  {
   "cell_type": "code",
   "execution_count": 43,
   "id": "12c91e39-aa54-466f-b9bd-fe9bb9d84bd3",
   "metadata": {},
   "outputs": [],
   "source": [
    "x = 0.5"
   ]
  },
  {
   "cell_type": "code",
   "execution_count": 45,
   "id": "c3b64298-fa28-456b-8df0-30f7cfc8e6a5",
   "metadata": {},
   "outputs": [],
   "source": [
    "y = 2.3"
   ]
  },
  {
   "cell_type": "code",
   "execution_count": 47,
   "id": "3f923c70-fe41-4909-a13a-1182c18593c8",
   "metadata": {},
   "outputs": [],
   "source": [
    "z = 2 + 1j"
   ]
  },
  {
   "cell_type": "code",
   "execution_count": 49,
   "id": "256e044b-ddbf-441a-89f0-500c832cbc1f",
   "metadata": {},
   "outputs": [],
   "source": [
    "z2 = 3 - 4j"
   ]
  },
  {
   "cell_type": "code",
   "execution_count": 53,
   "id": "efdc0258-0de8-4846-85c6-214645a23e21",
   "metadata": {},
   "outputs": [],
   "source": [
    "fruta = \"Manga\""
   ]
  },
  {
   "cell_type": "code",
   "execution_count": 56,
   "id": "040d0730-d9ae-429f-8a7d-8576f6da4ddb",
   "metadata": {},
   "outputs": [],
   "source": [
    "nome = \"Impacta\""
   ]
  },
  {
   "cell_type": "code",
   "execution_count": 58,
   "id": "09b04c65-ff98-4ab2-a5ee-23e178a205e4",
   "metadata": {},
   "outputs": [],
   "source": [
    "hoje_chove = True"
   ]
  },
  {
   "cell_type": "code",
   "execution_count": 60,
   "id": "6889efb4-1f97-4895-b832-e0d7af14c790",
   "metadata": {},
   "outputs": [],
   "source": [
    "hoje_chove = False"
   ]
  },
  {
   "cell_type": "code",
   "execution_count": 62,
   "id": "33301f62-58fd-493b-9ae3-d71b9e4ffa9c",
   "metadata": {},
   "outputs": [],
   "source": [
    "hoje_chove = \"impacta\""
   ]
  },
  {
   "cell_type": "code",
   "execution_count": 64,
   "id": "ad791a62-e441-4f21-b15a-9b3ebfcb0c40",
   "metadata": {},
   "outputs": [
    {
     "name": "stdout",
     "output_type": "stream",
     "text": [
      "impacta\n"
     ]
    }
   ],
   "source": [
    "print(hoje_chove)"
   ]
  },
  {
   "cell_type": "code",
   "execution_count": 66,
   "id": "cb128494-9df1-43f1-8fc3-c3c980e3e011",
   "metadata": {},
   "outputs": [
    {
     "data": {
      "text/plain": [
       "float"
      ]
     },
     "execution_count": 66,
     "metadata": {},
     "output_type": "execute_result"
    }
   ],
   "source": [
    "type(y)"
   ]
  },
  {
   "cell_type": "code",
   "execution_count": 68,
   "id": "9e07ac0a-e4e9-46e1-929b-658de4dc768f",
   "metadata": {},
   "outputs": [
    {
     "data": {
      "text/plain": [
       "complex"
      ]
     },
     "execution_count": 68,
     "metadata": {},
     "output_type": "execute_result"
    }
   ],
   "source": [
    "type(z2)"
   ]
  },
  {
   "cell_type": "code",
   "execution_count": 78,
   "id": "cff8281f-c324-4fba-ac86-6118b66a3aa7",
   "metadata": {},
   "outputs": [],
   "source": [
    "ID_produto = \"ax2123\""
   ]
  },
  {
   "cell_type": "code",
   "execution_count": 80,
   "id": "d2f10464-0cdc-41ea-b9fd-f8016d03adb4",
   "metadata": {},
   "outputs": [
    {
     "data": {
      "text/plain": [
       "str"
      ]
     },
     "execution_count": 80,
     "metadata": {},
     "output_type": "execute_result"
    }
   ],
   "source": [
    "type(ID_produto)"
   ]
  },
  {
   "cell_type": "code",
   "execution_count": 82,
   "id": "cf1d432e-e34d-42c5-84ce-57034bb697b2",
   "metadata": {},
   "outputs": [],
   "source": [
    "a = 2"
   ]
  },
  {
   "cell_type": "code",
   "execution_count": 84,
   "id": "2722cfcd-656f-448e-be63-4263275479e7",
   "metadata": {},
   "outputs": [],
   "source": [
    "b = float(a)"
   ]
  },
  {
   "cell_type": "code",
   "execution_count": 88,
   "id": "a16d27ba-72a6-4d68-88e7-314c4d961a35",
   "metadata": {},
   "outputs": [
    {
     "name": "stdout",
     "output_type": "stream",
     "text": [
      "2.0\n"
     ]
    }
   ],
   "source": [
    "print(b)"
   ]
  },
  {
   "cell_type": "code",
   "execution_count": null,
   "id": "5c3b50d3-4cda-4828-b9ac-563b63e0324d",
   "metadata": {},
   "outputs": [],
   "source": []
  },
  {
   "cell_type": "code",
   "execution_count": 90,
   "id": "2a7abe75-47ea-4c84-8c9a-3b64a62e6085",
   "metadata": {},
   "outputs": [],
   "source": [
    "b = int (b)"
   ]
  },
  {
   "cell_type": "code",
   "execution_count": 92,
   "id": "d584a1c6-64eb-4b52-9672-01ef46b25316",
   "metadata": {},
   "outputs": [
    {
     "name": "stdout",
     "output_type": "stream",
     "text": [
      "2\n"
     ]
    }
   ],
   "source": [
    "print (b)"
   ]
  },
  {
   "cell_type": "code",
   "execution_count": null,
   "id": "f4bccb70-611f-4fc2-8dd1-e22e05a83956",
   "metadata": {},
   "outputs": [],
   "source": []
  }
 ],
 "metadata": {
  "kernelspec": {
   "display_name": "Python [conda env:base] *",
   "language": "python",
   "name": "conda-base-py"
  },
  "language_info": {
   "codemirror_mode": {
    "name": "ipython",
    "version": 3
   },
   "file_extension": ".py",
   "mimetype": "text/x-python",
   "name": "python",
   "nbconvert_exporter": "python",
   "pygments_lexer": "ipython3",
   "version": "3.12.7"
  }
 },
 "nbformat": 4,
 "nbformat_minor": 5
}
