{
 "cells": [
  {
   "cell_type": "code",
   "execution_count": 1,
   "id": "34ef4aee-a4d0-47d4-9e48-b16924eb00b7",
   "metadata": {},
   "outputs": [],
   "source": [
    "#Exercicios\n",
    "Abra um terminal. Digite Python, para entrar no modo idle.\n",
    "1 - Atribua os seguintes valores a variaveis um a um: \n",
    " a. 347\n",
    " b. 2.71\n",
    " c. \"347\"\n",
    " d. 2+3j\n",
    "2 - Quais são os tipos de variáveis acima?\n",
    "3 - Faça uma atribuição multipla das variáveis do exercicio \n",
    "4 - Declare a seguinte variável e verifique o que acontece:\\n\n",
    " a. teste = true\n",
    "5 - Transforme as variáveis do exercicio 2 conforme sequinte:\n",
    " a. para float\n",
    " b. para inteiro\n",
    " c. para float\n",
    " d. para string\n",
    "7. Crie uma variavel complexa com os valores de 2.a e 2.b"
   ]
  },
  {
   "cell_type": "code",
   "execution_count": null,
   "id": "f6ce7d5e-6d4e-4f0b-837e-9afb93a7a0ce",
   "metadata": {},
   "outputs": [],
   "source": [
    "#Repostas (Exercicio_1)"
   ]
  },
  {
   "cell_type": "code",
   "execution_count": 3,
   "id": "9939a8b8-4a64-4719-a6f4-9e3b9eb18f1b",
   "metadata": {},
   "outputs": [],
   "source": [
    "a = 347"
   ]
  },
  {
   "cell_type": "code",
   "execution_count": 5,
   "id": "3a58d9b0-c689-459f-9017-e13d05f92b57",
   "metadata": {},
   "outputs": [],
   "source": [
    "b = 2.71"
   ]
  },
  {
   "cell_type": "code",
   "execution_count": 7,
   "id": "2e74a820-40d8-4132-8124-401661cf0e63",
   "metadata": {},
   "outputs": [],
   "source": [
    "c = \"347\""
   ]
  },
  {
   "cell_type": "code",
   "execution_count": 9,
   "id": "12784989-b6c6-43ac-9e92-6f9bd82b4bb8",
   "metadata": {},
   "outputs": [],
   "source": [
    "d = 2+3j"
   ]
  },
  {
   "cell_type": "code",
   "execution_count": null,
   "id": "5975105e-9486-4c7c-a9bf-0cbc8e48ec81",
   "metadata": {},
   "outputs": [],
   "source": [
    "#Repostas (Exercicio_2)"
   ]
  },
  {
   "cell_type": "code",
   "execution_count": null,
   "id": "5baf92b8-6825-4800-9e25-ad35420148d5",
   "metadata": {},
   "outputs": [],
   "source": [
    "#Tipos de variaveis (explicação)\n",
    "\n",
    "int = Inteiros - Representam números inteiros, como 1, 2, -3.\n",
    "float = Ponto flutuante - Representam números decimais, como 3.14, -0.5.\n",
    "complex = Complexos - Representam números complexos, com parte real e imaginária.\n",
    "str = Strings - Representam sequências de caracteres, como \"Olá, mundo!\""
   ]
  },
  {
   "cell_type": "code",
   "execution_count": 11,
   "id": "15579e78-d70a-4386-b064-cc5f58c09878",
   "metadata": {},
   "outputs": [
    {
     "data": {
      "text/plain": [
       "int"
      ]
     },
     "execution_count": 11,
     "metadata": {},
     "output_type": "execute_result"
    }
   ],
   "source": [
    "type (a)"
   ]
  },
  {
   "cell_type": "code",
   "execution_count": 13,
   "id": "156086a3-abce-4ada-aa97-cd71e7cecb71",
   "metadata": {},
   "outputs": [
    {
     "data": {
      "text/plain": [
       "float"
      ]
     },
     "execution_count": 13,
     "metadata": {},
     "output_type": "execute_result"
    }
   ],
   "source": [
    "type (b)"
   ]
  },
  {
   "cell_type": "code",
   "execution_count": 15,
   "id": "bdb991fd-b59a-4673-a239-4304183fd1cb",
   "metadata": {},
   "outputs": [
    {
     "data": {
      "text/plain": [
       "str"
      ]
     },
     "execution_count": 15,
     "metadata": {},
     "output_type": "execute_result"
    }
   ],
   "source": [
    "type (c)"
   ]
  },
  {
   "cell_type": "code",
   "execution_count": 17,
   "id": "73241cca-4df9-4f95-830e-4420fdb7db53",
   "metadata": {},
   "outputs": [
    {
     "data": {
      "text/plain": [
       "complex"
      ]
     },
     "execution_count": 17,
     "metadata": {},
     "output_type": "execute_result"
    }
   ],
   "source": [
    "type (d)"
   ]
  },
  {
   "cell_type": "code",
   "execution_count": null,
   "id": "b24261e9-caff-4b03-a3ae-93ebec78c441",
   "metadata": {},
   "outputs": [],
   "source": [
    "#Repostas (Exercicio_3)"
   ]
  },
  {
   "cell_type": "code",
   "execution_count": null,
   "id": "a800002d-c71a-4032-b68c-caf5e2aa8968",
   "metadata": {
    "scrolled": true
   },
   "outputs": [],
   "source": [
    "#Atribuições multipla de variaveis \n",
    "\n",
    "Juntar em uma unica linha as atribuições dadas variveis juntas. Seguindo a logica do exercicio é escrever em uma linha:\n",
    "\n",
    "Nome, Idade, Cidade = 347, 2.71, \"São Paulo\"\n",
    "\n",
    "Resposta a baixo: "
   ]
  },
  {
   "cell_type": "code",
   "execution_count": 102,
   "id": "711ba865-a4ab-4545-b5ab-f667d70b0251",
   "metadata": {},
   "outputs": [],
   "source": [
    "Nome, Idade, Cidade, DDD = \"347\", 2.71, \"347\", 2+3j"
   ]
  },
  {
   "cell_type": "code",
   "execution_count": 104,
   "id": "20b519c6-8039-4820-80ae-86ac8b74fde1",
   "metadata": {
    "scrolled": true
   },
   "outputs": [
    {
     "name": "stdout",
     "output_type": "stream",
     "text": [
      "347\n",
      "2.71\n",
      "347\n",
      "(2+3j)\n"
     ]
    }
   ],
   "source": [
    "print(Nome)\n",
    "print(Idade)\n",
    "print(Cidade)\n",
    "print(DDD)"
   ]
  },
  {
   "cell_type": "code",
   "execution_count": null,
   "id": "940666dc-77bc-4dbb-bf47-ead0539aab6a",
   "metadata": {},
   "outputs": [],
   "source": [
    "#Repostas (Exercicio_4)"
   ]
  },
  {
   "cell_type": "code",
   "execution_count": null,
   "id": "268989d0-3c38-43c6-a805-59fb20fd9e52",
   "metadata": {},
   "outputs": [],
   "source": [
    "#Variavel Booleanos \n",
    "bool: Representam valores lógicos, verdadeiro (True) ou falso (False)."
   ]
  },
  {
   "cell_type": "code",
   "execution_count": 56,
   "id": "7394bbb0-80db-46f3-871f-ade13f15c0e4",
   "metadata": {},
   "outputs": [],
   "source": [
    "teste = False"
   ]
  },
  {
   "cell_type": "code",
   "execution_count": 58,
   "id": "42fde2e0-7cae-4fcd-a3ec-6a1a1846ef3d",
   "metadata": {},
   "outputs": [
    {
     "name": "stdout",
     "output_type": "stream",
     "text": [
      "False\n"
     ]
    }
   ],
   "source": [
    "print(teste)"
   ]
  },
  {
   "cell_type": "code",
   "execution_count": 82,
   "id": "645ea95a-c234-40ba-83d7-ea08c6a65861",
   "metadata": {},
   "outputs": [],
   "source": [
    "# Quando dou o comando da varivel sem \"print\" ele me mostra o que a variavel é atribuida\n",
    "# Print sempre é para apresentar para o user final "
   ]
  },
  {
   "cell_type": "code",
   "execution_count": 76,
   "id": "7d8fb84f-549c-48bb-8dea-a0bff4f5879e",
   "metadata": {},
   "outputs": [
    {
     "data": {
      "text/plain": [
       "False"
      ]
     },
     "execution_count": 76,
     "metadata": {},
     "output_type": "execute_result"
    }
   ],
   "source": [
    "teste"
   ]
  },
  {
   "cell_type": "code",
   "execution_count": 78,
   "id": "ebe259f7-1742-494d-af14-69559cd008cd",
   "metadata": {},
   "outputs": [
    {
     "data": {
      "text/plain": [
       "347"
      ]
     },
     "execution_count": 78,
     "metadata": {},
     "output_type": "execute_result"
    }
   ],
   "source": [
    "a"
   ]
  },
  {
   "cell_type": "code",
   "execution_count": null,
   "id": "3260e25e-9182-4a08-95fc-d8dc151175ce",
   "metadata": {},
   "outputs": [],
   "source": [
    "#Repostas (Exercicio_5)"
   ]
  },
  {
   "cell_type": "code",
   "execution_count": 84,
   "id": "9e0f5c1e-850e-40ba-b13f-56bd4efaf76a",
   "metadata": {},
   "outputs": [],
   "source": [
    "# Para converter as variaveis coloco o tipo na frente da variavel"
   ]
  },
  {
   "cell_type": "code",
   "execution_count": 112,
   "id": "1089a433-ce8b-4d89-9344-cd156c1d9e49",
   "metadata": {},
   "outputs": [],
   "source": [
    "Nome = float(Nome)\n",
    "Idade = int(Idade)\n",
    "Cidade = float(Cidade)\n",
    "DDD = str(DDD)"
   ]
  },
  {
   "cell_type": "code",
   "execution_count": 114,
   "id": "9588de81-185f-4947-b37b-a92e5fbfab52",
   "metadata": {},
   "outputs": [
    {
     "name": "stdout",
     "output_type": "stream",
     "text": [
      "347.0\n",
      "2\n",
      "347.0\n",
      "(2+3j)\n"
     ]
    }
   ],
   "source": [
    "print(Nome)\n",
    "print(Idade)\n",
    "print(Cidade)\n",
    "print(DDD)"
   ]
  },
  {
   "cell_type": "code",
   "execution_count": null,
   "id": "abd9b167-242c-4532-b998-4df803ef7fad",
   "metadata": {},
   "outputs": [],
   "source": []
  },
  {
   "cell_type": "code",
   "execution_count": 117,
   "id": "6c1e4bee-31d5-4e8e-b432-d5636bfaa704",
   "metadata": {},
   "outputs": [
    {
     "data": {
      "text/plain": [
       "4"
      ]
     },
     "execution_count": 117,
     "metadata": {},
     "output_type": "execute_result"
    }
   ],
   "source": [
    "2+2"
   ]
  },
  {
   "cell_type": "code",
   "execution_count": 119,
   "id": "a019b3c9-6084-4f95-81a5-b510ffcf13e0",
   "metadata": {},
   "outputs": [
    {
     "data": {
      "text/plain": [
       "'22'"
      ]
     },
     "execution_count": 119,
     "metadata": {},
     "output_type": "execute_result"
    }
   ],
   "source": [
    "\"2\"+\"2\""
   ]
  },
  {
   "cell_type": "code",
   "execution_count": 123,
   "id": "d3dc6e00-a011-4160-8efd-efbcaa0a3bac",
   "metadata": {},
   "outputs": [
    {
     "data": {
      "text/plain": [
       "'thiago thiago'"
      ]
     },
     "execution_count": 123,
     "metadata": {},
     "output_type": "execute_result"
    }
   ],
   "source": [
    "\"thiago \"+\"thiago\""
   ]
  },
  {
   "cell_type": "code",
   "execution_count": null,
   "id": "f87eefa1-b92e-43c6-a9b5-67cd7a60a9f0",
   "metadata": {},
   "outputs": [],
   "source": [
    "#Repostas (Exercicio_6)"
   ]
  },
  {
   "cell_type": "code",
   "execution_count": 129,
   "id": "6a4f4c34-dece-488f-bcd1-2ebae8dba4e2",
   "metadata": {},
   "outputs": [],
   "source": [
    "# Números complexos são números que possuem uma parte real e uma parte imaginária. \n",
    "#Em Python, eles são representados pelo tipo complex. A parte imaginária é indicada pelo sufixo j"
   ]
  },
  {
   "cell_type": "code",
   "execution_count": 127,
   "id": "2e595012-63c8-4b1d-a4c6-c6622e0c44c5",
   "metadata": {},
   "outputs": [
    {
     "name": "stdout",
     "output_type": "stream",
     "text": [
      "(347+2j)\n"
     ]
    }
   ],
   "source": [
    "z2 = complex(Nome,Idade)\n",
    "print(z2)"
   ]
  },
  {
   "cell_type": "code",
   "execution_count": 131,
   "id": "cb7216d3-553f-402c-9090-d35b5d8c7659",
   "metadata": {},
   "outputs": [],
   "source": [
    "#Logica boleana"
   ]
  },
  {
   "cell_type": "code",
   "execution_count": 137,
   "id": "572c53da-9005-484d-b962-63049466744d",
   "metadata": {},
   "outputs": [],
   "source": [
    "#Logica De Threshold"
   ]
  },
  {
   "cell_type": "code",
   "execution_count": 135,
   "id": "66c413ac-5199-45a8-b93d-5f968858cf6f",
   "metadata": {},
   "outputs": [],
   "source": [
    "#Logica simbolica"
   ]
  },
  {
   "cell_type": "code",
   "execution_count": null,
   "id": "c3de7418-9f4c-49a0-96d3-604d42a7724c",
   "metadata": {},
   "outputs": [],
   "source": []
  },
  {
   "cell_type": "code",
   "execution_count": null,
   "id": "5c710a36-3c3b-4768-9ee5-9a5e2c30f1e7",
   "metadata": {},
   "outputs": [],
   "source": [
    "#Operadores"
   ]
  },
  {
   "cell_type": "code",
   "execution_count": 143,
   "id": "550f4241-e2f9-40a0-8dd1-3214dc317cfd",
   "metadata": {},
   "outputs": [
    {
     "name": "stdout",
     "output_type": "stream",
     "text": [
      "8\n",
      "2\n",
      "1.6666666666666667\n",
      "15\n",
      "125\n",
      "2\n",
      "1.25\n"
     ]
    }
   ],
   "source": [
    "a = 5\n",
    "b = 3 \n",
    "print(a+b)\n",
    "print(a-b)\n",
    "print(a/3)\n",
    "print(a*b)\n",
    "print(a**b)  #Potenciação\n",
    "print(a%b)   #Resto da divisão\n",
    "print(a*0.25) #Porcentual"
   ]
  },
  {
   "cell_type": "code",
   "execution_count": 147,
   "id": "ce7d5667-3861-4503-b0f7-aa25c33457e3",
   "metadata": {},
   "outputs": [],
   "source": [
    "# AND = E do Excel\n",
    "# OR = OU do Excel\n",
    "# Simbolos seguem igual excel > . < . =\n",
    "# == é comparar igualdade\n",
    "# != é diferente\n",
    "# True = Verdadeiro False = Falso (1 e 0) "
   ]
  },
  {
   "cell_type": "code",
   "execution_count": 155,
   "id": "63152a05-50b6-40a6-a136-b0d64ac6de9e",
   "metadata": {},
   "outputs": [
    {
     "name": "stdout",
     "output_type": "stream",
     "text": [
      "True\n",
      "False\n",
      "True\n",
      "False\n",
      "False\n",
      "True\n"
     ]
    }
   ],
   "source": [
    "a,b = 5,3\n",
    "print(a>b)\n",
    "print(a<b)\n",
    "print(a>=b)\n",
    "print(a<=b)\n",
    "print(a==b)\n",
    "print(a!=b)"
   ]
  },
  {
   "cell_type": "code",
   "execution_count": null,
   "id": "aab904e1-7ed7-4055-aa7c-bff1e7b56181",
   "metadata": {},
   "outputs": [],
   "source": []
  },
  {
   "cell_type": "code",
   "execution_count": null,
   "id": "3cf0761d-f77d-4fd9-8c86-b9aa65b591fe",
   "metadata": {},
   "outputs": [],
   "source": [
    "#Exercicio Logica"
   ]
  },
  {
   "cell_type": "code",
   "execution_count": null,
   "id": "0008bcf7-6740-444a-9c7a-c64868b0dce5",
   "metadata": {
    "scrolled": true
   },
   "outputs": [],
   "source": [
    "1. Defina as segyubte varuáveis x = 3, y =4.0, z = 12 e t= \"banana\"\n",
    "2. Calcule\n",
    "a. x + y\n",
    "b. z - y\n",
    "c. y ** x\n",
    "d. x * z\n",
    "e. z / x\n",
    "f. y % x\n",
    "3. Teste as seguinte relações\n",
    "a. x > y\n",
    "b. x * y == z\n",
    "c. t == y\n",
    "d. x < y and x > z"
   ]
  },
  {
   "cell_type": "code",
   "execution_count": 159,
   "id": "8ab47e48-c0d1-4ce1-86d3-f0ec60d08f61",
   "metadata": {},
   "outputs": [],
   "source": [
    "#Repostas (Exercicio_1)"
   ]
  },
  {
   "cell_type": "code",
   "execution_count": 161,
   "id": "a1acc680-3189-4580-8d3c-400792953c7a",
   "metadata": {},
   "outputs": [],
   "source": [
    "x, y, z, t = 3, 4.0, 12, \"banana\""
   ]
  },
  {
   "cell_type": "code",
   "execution_count": 167,
   "id": "b8907bf9-9379-4e9d-b28a-bce337890923",
   "metadata": {},
   "outputs": [
    {
     "name": "stdout",
     "output_type": "stream",
     "text": [
      "3\n",
      "4.0\n",
      "12\n",
      "banana\n"
     ]
    }
   ],
   "source": [
    "print(x)\n",
    "print(y)\n",
    "print(z)\n",
    "print(t)"
   ]
  },
  {
   "cell_type": "code",
   "execution_count": 169,
   "id": "0e62d16e-5188-4753-a0eb-0bdbc6497709",
   "metadata": {},
   "outputs": [],
   "source": [
    "#Repostas (Exercicio_2)"
   ]
  },
  {
   "cell_type": "code",
   "execution_count": 185,
   "id": "133d7e20-bd8b-41a7-8ebd-39c773e81d1a",
   "metadata": {},
   "outputs": [
    {
     "name": "stdout",
     "output_type": "stream",
     "text": [
      "7.0\n",
      "8.0\n",
      "64.0\n",
      "36\n",
      "4.0\n",
      "1.0\n"
     ]
    }
   ],
   "source": [
    "print(x + y)\n",
    "print(z - y)\n",
    "print(y ** x)\n",
    "print(x * z)\n",
    "print(z / x)\n",
    "print(y % x)"
   ]
  },
  {
   "cell_type": "code",
   "execution_count": 181,
   "id": "9b5b5f72-c082-4c5b-a34e-df5a38d26360",
   "metadata": {},
   "outputs": [],
   "source": [
    "#Repostas (Exercicio_3)"
   ]
  },
  {
   "cell_type": "code",
   "execution_count": 187,
   "id": "f60f1e5e-5d0e-4bd5-ab4b-9ed2f05cd805",
   "metadata": {},
   "outputs": [
    {
     "name": "stdout",
     "output_type": "stream",
     "text": [
      "False\n",
      "True\n",
      "False\n",
      "False\n"
     ]
    }
   ],
   "source": [
    "print(x > y)\n",
    "print(x * y == z)\n",
    "print(t == y)\n",
    "print(x < y and x > z)"
   ]
  },
  {
   "cell_type": "code",
   "execution_count": null,
   "id": "b4c16093-ac66-44aa-8ae4-77f268a19a68",
   "metadata": {},
   "outputs": [],
   "source": []
  },
  {
   "cell_type": "code",
   "execution_count": 203,
   "id": "736b5551-4c3f-4bf9-81db-e78b457cc5a9",
   "metadata": {},
   "outputs": [],
   "source": [
    "#Metodos Python\n",
    "\n",
    "#Método é uma função que está associada a um objeto. \n",
    "#Em outras palavras, um método é uma função que pertence a uma classe e opera sobre os dados de uma instância dessa classe."
   ]
  },
  {
   "cell_type": "code",
   "execution_count": 191,
   "id": "e78b7622-bce6-49a7-a8dc-bd1887ef2bb3",
   "metadata": {},
   "outputs": [],
   "source": [
    "fruta01 = \"BaNana\"\n",
    "fruta02 = \"AbAcAxI\""
   ]
  },
  {
   "cell_type": "code",
   "execution_count": null,
   "id": "0d0b68bf-924c-444f-bd6c-cb6eb0817267",
   "metadata": {},
   "outputs": [],
   "source": [
    "#lower() é um método de string que converte todos os caracteres de uma string para minúsculas. \n",
    "#Ele não altera a string original, mas retorna uma nova string com todos os caracteres em minúsculas. "
   ]
  },
  {
   "cell_type": "code",
   "execution_count": 193,
   "id": "10eec211-9ab9-42b1-a3dd-e13b7a032c7c",
   "metadata": {},
   "outputs": [
    {
     "name": "stdout",
     "output_type": "stream",
     "text": [
      "banana\n"
     ]
    }
   ],
   "source": [
    "print(fruta01.lower())"
   ]
  },
  {
   "cell_type": "code",
   "execution_count": 195,
   "id": "65c045bd-4ff0-4b3d-af46-d950ac9e9cdc",
   "metadata": {},
   "outputs": [
    {
     "name": "stdout",
     "output_type": "stream",
     "text": [
      "abacaxi\n"
     ]
    }
   ],
   "source": [
    "print(fruta02.lower())"
   ]
  },
  {
   "cell_type": "code",
   "execution_count": null,
   "id": "a408fed0-09ba-46f9-85dc-5395a34f6307",
   "metadata": {},
   "outputs": [],
   "source": [
    "#upper() é um método de string que converte todos os caracteres de uma string para maiúsculas.\n",
    "#Ele não altera a string original, mas retorna uma nova string com todos os caracteres em minúsculas."
   ]
  },
  {
   "cell_type": "code",
   "execution_count": 199,
   "id": "40b35630-729e-45af-9a53-a90e6cb284b2",
   "metadata": {},
   "outputs": [
    {
     "name": "stdout",
     "output_type": "stream",
     "text": [
      "BANANA\n"
     ]
    }
   ],
   "source": [
    "print(fruta01.upper())"
   ]
  },
  {
   "cell_type": "code",
   "execution_count": 201,
   "id": "9bcb9a6d-9fa7-4d90-b772-ffa44435b5b7",
   "metadata": {},
   "outputs": [
    {
     "name": "stdout",
     "output_type": "stream",
     "text": [
      "ABACAXI\n"
     ]
    }
   ],
   "source": [
    "print(fruta02.upper())"
   ]
  },
  {
   "cell_type": "code",
   "execution_count": 211,
   "id": "12201d3a-6cac-47bb-b4a9-10db48e415a1",
   "metadata": {},
   "outputs": [],
   "source": [
    "#.capitalize() é um método de string que retorna uma cópia da string com o primeiro caractere em maiúscula e o restante dos caracteres em minúscula.\n",
    "#Pode usar tambem:\n",
    "#.title() é um método de string que retorna uma cópia da string com o primeiro caractere de cada palavra em maiúscula e o restante dos caracteres em minúscula.\n"
   ]
  },
  {
   "cell_type": "code",
   "execution_count": 205,
   "id": "0a9d158c-8c9e-41dc-bfd9-af230f7d5d08",
   "metadata": {},
   "outputs": [
    {
     "name": "stdout",
     "output_type": "stream",
     "text": [
      "Banana\n"
     ]
    }
   ],
   "source": [
    "print(fruta01.capitalize())"
   ]
  },
  {
   "cell_type": "code",
   "execution_count": 213,
   "id": "c8236cf8-15f1-48b6-bc02-1802648e61c0",
   "metadata": {},
   "outputs": [
    {
     "name": "stdout",
     "output_type": "stream",
     "text": [
      "Abacaxi\n"
     ]
    }
   ],
   "source": [
    "print(fruta02.title())"
   ]
  },
  {
   "cell_type": "code",
   "execution_count": 215,
   "id": "29c1ea1c-2022-4248-8894-5d031768658b",
   "metadata": {},
   "outputs": [],
   "source": [
    "#Posso usar funções matematicas para aumentar qtd de itens"
   ]
  },
  {
   "cell_type": "code",
   "execution_count": 217,
   "id": "9c9a25f8-ad03-48f9-bd93-1445b61784cb",
   "metadata": {},
   "outputs": [
    {
     "name": "stdout",
     "output_type": "stream",
     "text": [
      "BaNanaBaNanaBaNana\n"
     ]
    }
   ],
   "source": [
    "print(fruta01*3)"
   ]
  },
  {
   "cell_type": "code",
   "execution_count": 219,
   "id": "ca5dc3f4-dd77-4d7e-a4f7-5580e2c43468",
   "metadata": {},
   "outputs": [],
   "source": [
    "#startswith é um metodo que começa a string"
   ]
  },
  {
   "cell_type": "code",
   "execution_count": 223,
   "id": "3d4477f2-144b-43f4-9988-b3cd3c72b95c",
   "metadata": {},
   "outputs": [
    {
     "name": "stdout",
     "output_type": "stream",
     "text": [
      "True False\n"
     ]
    }
   ],
   "source": [
    "print(fruta01.startswith ('B'), fruta02.startswith ('B'))"
   ]
  },
  {
   "cell_type": "code",
   "execution_count": 225,
   "id": "ffb5fb6c-615e-4fe7-a784-17fe84402c99",
   "metadata": {},
   "outputs": [],
   "source": [
    "#endswith é um metodo que termina a string"
   ]
  },
  {
   "cell_type": "code",
   "execution_count": 231,
   "id": "39af0703-fc72-434e-9442-1a8a19a1660a",
   "metadata": {},
   "outputs": [
    {
     "name": "stdout",
     "output_type": "stream",
     "text": [
      "False True\n"
     ]
    }
   ],
   "source": [
    "print(fruta01.endswith ('I'), fruta02.endswith('I'))"
   ]
  },
  {
   "cell_type": "code",
   "execution_count": null,
   "id": "f28a6b85-14fc-45e4-a028-33d365ae7177",
   "metadata": {},
   "outputs": [],
   "source": []
  }
 ],
 "metadata": {
  "kernelspec": {
   "display_name": "Python [conda env:base] *",
   "language": "python",
   "name": "conda-base-py"
  },
  "language_info": {
   "codemirror_mode": {
    "name": "ipython",
    "version": 3
   },
   "file_extension": ".py",
   "mimetype": "text/x-python",
   "name": "python",
   "nbconvert_exporter": "python",
   "pygments_lexer": "ipython3",
   "version": "3.12.7"
  }
 },
 "nbformat": 4,
 "nbformat_minor": 5
}
