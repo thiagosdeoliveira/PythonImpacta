{
 "cells": [
  {
   "cell_type": "code",
   "execution_count": 1,
   "id": "7ecc527e-b3cb-443a-9c27-9d6ffe61a846",
   "metadata": {},
   "outputs": [],
   "source": [
    "import numpy as np"
   ]
  },
  {
   "cell_type": "code",
   "execution_count": 3,
   "id": "1740341b-48df-4203-a64e-c3a43fd55268",
   "metadata": {},
   "outputs": [],
   "source": [
    "#as = apelidar podendo ser função ou dado"
   ]
  },
  {
   "cell_type": "code",
   "execution_count": 17,
   "id": "f9abc004-5774-46a5-a800-28ee56b7e8af",
   "metadata": {},
   "outputs": [],
   "source": [
    "#array = o termo \"array\" é frequentemente usado para se referir às listas do Python."
   ]
  },
  {
   "cell_type": "code",
   "execution_count": 7,
   "id": "79fc3471-54c5-4e66-aa23-cac772450bea",
   "metadata": {
    "panel-layout": {
     "height": 27.137500762939453,
     "visible": true,
     "width": 100
    }
   },
   "outputs": [
    {
     "data": {
      "text/plain": [
       "array([1, 2, 3])"
      ]
     },
     "execution_count": 7,
     "metadata": {},
     "output_type": "execute_result"
    }
   ],
   "source": [
    "np.array([1, 2, 3])"
   ]
  },
  {
   "cell_type": "code",
   "execution_count": 9,
   "id": "ea14372d-e489-48ba-9add-3adc876d6296",
   "metadata": {
    "panel-layout": {
     "height": 44.275001525878906,
     "visible": true,
     "width": 100
    }
   },
   "outputs": [
    {
     "data": {
      "text/plain": [
       "array([[1, 2, 3],\n",
       "       [4, 5, 6]])"
      ]
     },
     "execution_count": 9,
     "metadata": {},
     "output_type": "execute_result"
    }
   ],
   "source": [
    "np.array([[1, 2, 3],[4, 5, 6]])"
   ]
  },
  {
   "cell_type": "code",
   "execution_count": 15,
   "id": "a1fb5308-cd7f-4ab6-ad57-69da279270f5",
   "metadata": {
    "panel-layout": {
     "height": 310,
     "visible": true,
     "width": 100
    }
   },
   "outputs": [
    {
     "data": {
      "text/plain": [
       "array([[[1, 2, 3],\n",
       "        [4, 5, 6]],\n",
       "\n",
       "       [[1, 2, 3],\n",
       "        [4, 5, 6]]])"
      ]
     },
     "execution_count": 15,
     "metadata": {},
     "output_type": "execute_result"
    }
   ],
   "source": [
    "np.array([[[1, 2, 3],[4, 5, 6]],[[1, 2, 3],[4, 5, 6]]])"
   ]
  },
  {
   "cell_type": "code",
   "execution_count": 19,
   "id": "1d77e634-1c70-4019-bb81-4815b451bd41",
   "metadata": {},
   "outputs": [],
   "source": [
    "one = np.ones ([2,2])"
   ]
  },
  {
   "cell_type": "code",
   "execution_count": 21,
   "id": "7e1821a8-6cb7-4f0f-9948-c0fc7a0a222d",
   "metadata": {
    "panel-layout": {
     "height": 44.275001525878906,
     "visible": true,
     "width": 100
    }
   },
   "outputs": [
    {
     "data": {
      "text/plain": [
       "array([[1., 1.],\n",
       "       [1., 1.]])"
      ]
     },
     "execution_count": 21,
     "metadata": {},
     "output_type": "execute_result"
    }
   ],
   "source": [
    "one"
   ]
  },
  {
   "cell_type": "code",
   "execution_count": 25,
   "id": "8b38e982-5547-449d-b86a-aa4034b73c56",
   "metadata": {},
   "outputs": [],
   "source": [
    "# A função np.ones() é usada para criar um novo array NumPy preenchido com o valor escalar 1 (um). \n",
    "# Você especifica o formato (shape) desejado para o array como argumento para a função."
   ]
  },
  {
   "cell_type": "code",
   "execution_count": 27,
   "id": "428ef49c-597e-4ee4-b236-0d6fb7590fc8",
   "metadata": {},
   "outputs": [],
   "source": [
    "zeros = np.zeros([2,2,3])"
   ]
  },
  {
   "cell_type": "code",
   "execution_count": 29,
   "id": "ebd9bdf8-a6f5-4f9d-8329-a40453ff0e87",
   "metadata": {
    "panel-layout": {
     "height": 310,
     "visible": true,
     "width": 100
    }
   },
   "outputs": [
    {
     "data": {
      "text/plain": [
       "array([[[0., 0., 0.],\n",
       "        [0., 0., 0.]],\n",
       "\n",
       "       [[0., 0., 0.],\n",
       "        [0., 0., 0.]]])"
      ]
     },
     "execution_count": 29,
     "metadata": {},
     "output_type": "execute_result"
    }
   ],
   "source": [
    "zeros"
   ]
  },
  {
   "cell_type": "code",
   "execution_count": 31,
   "id": "91b57c4b-a901-4cd4-b802-e5121d5d8559",
   "metadata": {},
   "outputs": [],
   "source": [
    "# A função np.zeros() é usada para criar um novo array NumPy preenchido com o valor escalar 0 (zero). \n",
    "# Assim como np.ones(), você precisa especificar o formato (shape) desejado para o array como argumento para a função."
   ]
  },
  {
   "cell_type": "code",
   "execution_count": 33,
   "id": "fa690f4b-e329-4d04-9a4b-0d6dc7c9753f",
   "metadata": {},
   "outputs": [],
   "source": [
    "data = np.array([0,1,2,3,4,5,6,7,8,9])"
   ]
  },
  {
   "cell_type": "code",
   "execution_count": 35,
   "id": "5217677b-4e77-4770-8d31-00fdf3988203",
   "metadata": {
    "panel-layout": {
     "height": 27.137500762939453,
     "visible": true,
     "width": 100
    }
   },
   "outputs": [
    {
     "data": {
      "text/plain": [
       "2"
      ]
     },
     "execution_count": 35,
     "metadata": {},
     "output_type": "execute_result"
    }
   ],
   "source": [
    "data[2]"
   ]
  },
  {
   "cell_type": "code",
   "execution_count": 37,
   "id": "edc09930-4840-4c9f-944e-8957fcbe597e",
   "metadata": {
    "panel-layout": {
     "height": 27.137500762939453,
     "visible": true,
     "width": 100
    }
   },
   "outputs": [
    {
     "data": {
      "text/plain": [
       "array([2, 3])"
      ]
     },
     "execution_count": 37,
     "metadata": {},
     "output_type": "execute_result"
    }
   ],
   "source": [
    "data[2:4]"
   ]
  },
  {
   "cell_type": "code",
   "execution_count": 41,
   "id": "34455f0c-a9bf-438e-a0c2-9c78f434c24c",
   "metadata": {},
   "outputs": [],
   "source": [
    "vet = np.array([[1,2,3],[4,5,6],[7,8,9]])"
   ]
  },
  {
   "cell_type": "code",
   "execution_count": 43,
   "id": "a12b5a2b-0dfe-4e04-8d3c-4e1116486536",
   "metadata": {
    "panel-layout": {
     "height": 61.412498474121094,
     "visible": true,
     "width": 100
    }
   },
   "outputs": [
    {
     "data": {
      "text/plain": [
       "array([[1, 2, 3],\n",
       "       [4, 5, 6],\n",
       "       [7, 8, 9]])"
      ]
     },
     "execution_count": 43,
     "metadata": {},
     "output_type": "execute_result"
    }
   ],
   "source": [
    "vet"
   ]
  },
  {
   "cell_type": "code",
   "execution_count": 47,
   "id": "72d36c46-7328-4b14-b0c1-9e5c58d091c3",
   "metadata": {
    "panel-layout": {
     "height": 27.137500762939453,
     "visible": true,
     "width": 100
    }
   },
   "outputs": [
    {
     "data": {
      "text/plain": [
       "array([4, 5, 6])"
      ]
     },
     "execution_count": 47,
     "metadata": {},
     "output_type": "execute_result"
    }
   ],
   "source": [
    "vet[1,:]"
   ]
  },
  {
   "cell_type": "code",
   "execution_count": 49,
   "id": "2c503172-b927-4a0e-8dbc-a5aa40c3bfc9",
   "metadata": {
    "panel-layout": {
     "height": 27.137500762939453,
     "visible": true,
     "width": 100
    }
   },
   "outputs": [
    {
     "data": {
      "text/plain": [
       "array([3, 6, 9])"
      ]
     },
     "execution_count": 49,
     "metadata": {},
     "output_type": "execute_result"
    }
   ],
   "source": [
    "vet[:,2]"
   ]
  },
  {
   "cell_type": "code",
   "execution_count": 51,
   "id": "852f9914-b818-4a39-b802-7590bc455a29",
   "metadata": {
    "panel-layout": {
     "height": 27.137500762939453,
     "visible": true,
     "width": 100
    }
   },
   "outputs": [
    {
     "data": {
      "text/plain": [
       "5"
      ]
     },
     "execution_count": 51,
     "metadata": {},
     "output_type": "execute_result"
    }
   ],
   "source": [
    "vet[1,1]"
   ]
  },
  {
   "cell_type": "code",
   "execution_count": 53,
   "id": "959d90d7-ed37-4a7a-b0fe-6814984d5acf",
   "metadata": {},
   "outputs": [],
   "source": [
    "arr = np.array([[[1,2],[3,4]],[[5,6],[7,8]]])"
   ]
  },
  {
   "cell_type": "markdown",
   "id": "33ae7bc9-835f-472a-b3f4-dcc00645d13e",
   "metadata": {
    "panel-layout": {
     "height": 51.13750076293945,
     "visible": true,
     "width": 100
    }
   },
   "source": [
    "arr"
   ]
  },
  {
   "cell_type": "markdown",
   "id": "5ddb2403-df8b-495f-93b7-b662bf624ba6",
   "metadata": {
    "panel-layout": {
     "height": 102.55000305175781,
     "visible": true,
     "width": 100
    }
   },
   "source": [
    "- First item\n",
    "- Second item\n",
    "- Third item\n",
    "- Fourth item"
   ]
  },
  {
   "cell_type": "markdown",
   "id": "d87b80d6-9004-41f3-a4dc-cbd2d4530bc7",
   "metadata": {
    "panel-layout": {
     "height": 50.8125,
     "visible": true,
     "width": 100
    }
   },
   "source": [
    "## https://www.markdownguide.org/basic-syntax/"
   ]
  },
  {
   "cell_type": "code",
   "execution_count": 61,
   "id": "c76bc879-698e-43cf-b033-73242c9d9456",
   "metadata": {
    "panel-layout": {
     "height": 27.137500762939453,
     "visible": true,
     "width": 100
    }
   },
   "outputs": [
    {
     "data": {
      "text/plain": [
       "(2, 2, 2)"
      ]
     },
     "execution_count": 61,
     "metadata": {},
     "output_type": "execute_result"
    }
   ],
   "source": [
    "arr.shape"
   ]
  },
  {
   "cell_type": "code",
   "execution_count": 63,
   "id": "c3b6168c-37bf-4ee1-8d75-adfd71e4bc57",
   "metadata": {
    "panel-layout": {
     "height": 27.137500762939453,
     "visible": true,
     "width": 100
    }
   },
   "outputs": [
    {
     "data": {
      "text/plain": [
       "(3, 3)"
      ]
     },
     "execution_count": 63,
     "metadata": {},
     "output_type": "execute_result"
    }
   ],
   "source": [
    "vet.shape"
   ]
  },
  {
   "cell_type": "code",
   "execution_count": 65,
   "id": "6f437ffc-c9b4-4900-8f8d-0e021be24e16",
   "metadata": {},
   "outputs": [],
   "source": [
    "data_c = data[5:].copy()"
   ]
  },
  {
   "cell_type": "code",
   "execution_count": 67,
   "id": "59bc40db-e6b3-49d3-8f8b-f057b1685175",
   "metadata": {
    "panel-layout": {
     "height": 27.137500762939453,
     "visible": true,
     "width": 100
    }
   },
   "outputs": [
    {
     "data": {
      "text/plain": [
       "array([5, 6, 7, 8, 9])"
      ]
     },
     "execution_count": 67,
     "metadata": {},
     "output_type": "execute_result"
    }
   ],
   "source": [
    "data_c"
   ]
  },
  {
   "cell_type": "code",
   "execution_count": 69,
   "id": "35056889-1d96-4868-95a1-c865d4e99f92",
   "metadata": {},
   "outputs": [],
   "source": [
    "data = np.arange(10)"
   ]
  },
  {
   "cell_type": "code",
   "execution_count": 71,
   "id": "23eeb9c1-d65b-4990-b4ef-13e49b2f32ab",
   "metadata": {
    "panel-layout": {
     "height": 27.137500762939453,
     "visible": true,
     "width": 100
    }
   },
   "outputs": [
    {
     "data": {
      "text/plain": [
       "array([0, 1, 2, 3, 4, 5, 6, 7, 8, 9])"
      ]
     },
     "execution_count": 71,
     "metadata": {},
     "output_type": "execute_result"
    }
   ],
   "source": [
    "data"
   ]
  },
  {
   "cell_type": "code",
   "execution_count": 73,
   "id": "b576c2bb-29cc-4412-9a8f-659ff9bd098f",
   "metadata": {
    "panel-layout": {
     "height": 27.137500762939453,
     "visible": true,
     "width": 100
    }
   },
   "outputs": [
    {
     "data": {
      "text/plain": [
       "array([6, 7, 8, 9])"
      ]
     },
     "execution_count": 73,
     "metadata": {},
     "output_type": "execute_result"
    }
   ],
   "source": [
    "data[data >5]"
   ]
  },
  {
   "cell_type": "code",
   "execution_count": 75,
   "id": "b2dc20d5-de52-4589-b523-506a573ed63b",
   "metadata": {
    "panel-layout": {
     "height": 27.137500762939453,
     "visible": true,
     "width": 100
    }
   },
   "outputs": [
    {
     "data": {
      "text/plain": [
       "array([0, 1, 2, 3, 5, 6, 7, 8, 9])"
      ]
     },
     "execution_count": 75,
     "metadata": {},
     "output_type": "execute_result"
    }
   ],
   "source": [
    "data[data !=4]"
   ]
  },
  {
   "cell_type": "code",
   "execution_count": 81,
   "id": "078a9a88-30a4-4795-ac1c-7a04202efcfb",
   "metadata": {},
   "outputs": [],
   "source": [
    "data2 = np.array([[1,2,3,4],[4,5,6,7],[8,9,10,11]])"
   ]
  },
  {
   "cell_type": "code",
   "execution_count": 84,
   "id": "09f4de68-a502-4da6-918b-e2044777481b",
   "metadata": {
    "panel-layout": {
     "height": 61.412498474121094,
     "visible": true,
     "width": 100
    }
   },
   "outputs": [
    {
     "data": {
      "text/plain": [
       "array([[ 1,  2,  3,  4],\n",
       "       [ 4,  5,  6,  7],\n",
       "       [ 8,  9, 10, 11]])"
      ]
     },
     "execution_count": 84,
     "metadata": {},
     "output_type": "execute_result"
    }
   ],
   "source": [
    "data2"
   ]
  },
  {
   "cell_type": "code",
   "execution_count": 86,
   "id": "8249336f-4702-4082-b5ad-25821b9a1b44",
   "metadata": {
    "panel-layout": {
     "height": 78.55000305175781,
     "visible": true,
     "width": 100
    }
   },
   "outputs": [
    {
     "data": {
      "text/plain": [
       "array([[ 1,  2,  3],\n",
       "       [ 4,  4,  5],\n",
       "       [ 6,  7,  8],\n",
       "       [ 9, 10, 11]])"
      ]
     },
     "execution_count": 86,
     "metadata": {},
     "output_type": "execute_result"
    }
   ],
   "source": [
    "data2.reshape(4,3)"
   ]
  },
  {
   "cell_type": "code",
   "execution_count": 96,
   "id": "eed1273d-4dc6-426c-bdd3-41f7a4b78b3b",
   "metadata": {
    "panel-layout": {
     "height": 27.137500762939453,
     "visible": true,
     "width": 100
    }
   },
   "outputs": [
    {
     "data": {
      "text/plain": [
       "array([ 1,  2,  3,  4,  4,  5,  6,  7,  8,  9, 10, 11])"
      ]
     },
     "execution_count": 96,
     "metadata": {},
     "output_type": "execute_result"
    }
   ],
   "source": [
    "data2.flatten()"
   ]
  },
  {
   "cell_type": "code",
   "execution_count": 100,
   "id": "04ff1475-777d-4691-850b-1efe279b9110",
   "metadata": {
    "panel-layout": {
     "height": 78.55000305175781,
     "visible": true,
     "width": 100
    }
   },
   "outputs": [
    {
     "data": {
      "text/plain": [
       "array([[ 1,  4,  8],\n",
       "       [ 2,  5,  9],\n",
       "       [ 3,  6, 10],\n",
       "       [ 4,  7, 11]])"
      ]
     },
     "execution_count": 100,
     "metadata": {},
     "output_type": "execute_result"
    }
   ],
   "source": [
    "data2.transpose()"
   ]
  },
  {
   "cell_type": "code",
   "execution_count": 102,
   "id": "d0535096-29ec-48d3-8d48-548c754a7c3b",
   "metadata": {},
   "outputs": [],
   "source": [
    "a = np.array([[1,2],[3,4]])"
   ]
  },
  {
   "cell_type": "code",
   "execution_count": 104,
   "id": "7f5771e6-e008-4921-8b27-bda5943f013b",
   "metadata": {
    "panel-layout": {
     "height": 44.275001525878906,
     "visible": true,
     "width": 100
    }
   },
   "outputs": [
    {
     "data": {
      "text/plain": [
       "array([[1, 2],\n",
       "       [3, 4]])"
      ]
     },
     "execution_count": 104,
     "metadata": {},
     "output_type": "execute_result"
    }
   ],
   "source": [
    "a"
   ]
  },
  {
   "cell_type": "code",
   "execution_count": 106,
   "id": "d131885b-f53f-4e8e-b951-0df349fbf179",
   "metadata": {
    "panel-layout": {
     "height": 44.275001525878906,
     "visible": true,
     "width": 100
    }
   },
   "outputs": [
    {
     "data": {
      "text/plain": [
       "array([[2, 4],\n",
       "       [6, 8]])"
      ]
     },
     "execution_count": 106,
     "metadata": {},
     "output_type": "execute_result"
    }
   ],
   "source": [
    "a*2"
   ]
  },
  {
   "cell_type": "code",
   "execution_count": 108,
   "id": "6d6f55a4-a4b0-489d-9329-936061d2cdc2",
   "metadata": {
    "panel-layout": {
     "height": 44.275001525878906,
     "visible": true,
     "width": 100
    }
   },
   "outputs": [
    {
     "data": {
      "text/plain": [
       "array([[4, 5],\n",
       "       [6, 7]])"
      ]
     },
     "execution_count": 108,
     "metadata": {},
     "output_type": "execute_result"
    }
   ],
   "source": [
    "a+3"
   ]
  },
  {
   "cell_type": "code",
   "execution_count": 110,
   "id": "bd64a044-7119-4945-8eb3-57838f2d5f17",
   "metadata": {
    "panel-layout": {
     "height": 44.275001525878906,
     "visible": true,
     "width": 100
    }
   },
   "outputs": [
    {
     "data": {
      "text/plain": [
       "array([[-1,  0],\n",
       "       [ 1,  2]])"
      ]
     },
     "execution_count": 110,
     "metadata": {},
     "output_type": "execute_result"
    }
   ],
   "source": [
    "a-2"
   ]
  },
  {
   "cell_type": "code",
   "execution_count": 112,
   "id": "729e0217-fbc7-44f4-8a37-71926c60837f",
   "metadata": {
    "panel-layout": {
     "height": 44.275001525878906,
     "visible": true,
     "width": 100
    }
   },
   "outputs": [
    {
     "data": {
      "text/plain": [
       "array([[0.2, 0.4],\n",
       "       [0.6, 0.8]])"
      ]
     },
     "execution_count": 112,
     "metadata": {},
     "output_type": "execute_result"
    }
   ],
   "source": [
    "a/5"
   ]
  },
  {
   "cell_type": "code",
   "execution_count": 114,
   "id": "3b84ace4-cccc-4c24-b394-057cf11bfa21",
   "metadata": {
    "panel-layout": {
     "height": 44.275001525878906,
     "visible": true,
     "width": 100
    }
   },
   "outputs": [
    {
     "data": {
      "text/plain": [
       "array([[ 1,  4],\n",
       "       [ 9, 16]])"
      ]
     },
     "execution_count": 114,
     "metadata": {},
     "output_type": "execute_result"
    }
   ],
   "source": [
    "a ** 2"
   ]
  },
  {
   "cell_type": "code",
   "execution_count": 116,
   "id": "4241c022-0681-499a-8e73-fe08d139f6dd",
   "metadata": {},
   "outputs": [],
   "source": [
    "b = np.array([[1,2],[3,4]])"
   ]
  },
  {
   "cell_type": "code",
   "execution_count": 118,
   "id": "00b062a0-ba00-42c8-9138-462fe3f23962",
   "metadata": {
    "panel-layout": {
     "height": 44.275001525878906,
     "visible": true,
     "width": 100
    }
   },
   "outputs": [
    {
     "data": {
      "text/plain": [
       "array([[1, 2],\n",
       "       [3, 4]])"
      ]
     },
     "execution_count": 118,
     "metadata": {},
     "output_type": "execute_result"
    }
   ],
   "source": [
    "b"
   ]
  },
  {
   "cell_type": "code",
   "execution_count": 120,
   "id": "7868e17f-24f0-4a88-9a75-000077a199b5",
   "metadata": {
    "panel-layout": {
     "height": 44.275001525878906,
     "visible": true,
     "width": 100
    }
   },
   "outputs": [
    {
     "data": {
      "text/plain": [
       "array([[2, 4],\n",
       "       [6, 8]])"
      ]
     },
     "execution_count": 120,
     "metadata": {},
     "output_type": "execute_result"
    }
   ],
   "source": [
    "a+b"
   ]
  },
  {
   "cell_type": "code",
   "execution_count": 124,
   "id": "0787d9aa-ce2e-4036-8b6c-e3a6c6666315",
   "metadata": {
    "panel-layout": {
     "height": 44.275001525878906,
     "visible": true,
     "width": 100
    }
   },
   "outputs": [
    {
     "data": {
      "text/plain": [
       "array([[0, 0],\n",
       "       [0, 0]])"
      ]
     },
     "execution_count": 124,
     "metadata": {},
     "output_type": "execute_result"
    }
   ],
   "source": [
    "a - b"
   ]
  },
  {
   "cell_type": "code",
   "execution_count": 126,
   "id": "8cc497d7-0b34-4bb3-a81d-7c7ed28d2537",
   "metadata": {
    "panel-layout": {
     "height": 44.275001525878906,
     "visible": true,
     "width": 100
    }
   },
   "outputs": [
    {
     "data": {
      "text/plain": [
       "array([[ True,  True],\n",
       "       [ True,  True]])"
      ]
     },
     "execution_count": 126,
     "metadata": {},
     "output_type": "execute_result"
    }
   ],
   "source": [
    "a == b"
   ]
  },
  {
   "cell_type": "code",
   "execution_count": 128,
   "id": "ce41a1ef-1c32-47f7-98b4-87fdad8ce534",
   "metadata": {
    "panel-layout": {
     "height": 44.275001525878906,
     "visible": true,
     "width": 100
    }
   },
   "outputs": [
    {
     "data": {
      "text/plain": [
       "array([[False, False],\n",
       "       [False, False]])"
      ]
     },
     "execution_count": 128,
     "metadata": {},
     "output_type": "execute_result"
    }
   ],
   "source": [
    "a > b "
   ]
  },
  {
   "cell_type": "code",
   "execution_count": 130,
   "id": "ef62c213-5095-40ca-be52-9400cb194e05",
   "metadata": {
    "panel-layout": {
     "height": 44.275001525878906,
     "visible": true,
     "width": 100
    }
   },
   "outputs": [
    {
     "data": {
      "text/plain": [
       "array([[False, False],\n",
       "       [False, False]])"
      ]
     },
     "execution_count": 130,
     "metadata": {},
     "output_type": "execute_result"
    }
   ],
   "source": [
    "a<b"
   ]
  },
  {
   "cell_type": "code",
   "execution_count": 132,
   "id": "d808a153-8a7e-441d-b244-763ba3c432bd",
   "metadata": {
    "panel-layout": {
     "height": 44.275001525878906,
     "visible": true,
     "width": 100
    }
   },
   "outputs": [
    {
     "data": {
      "text/plain": [
       "array([[ 1,  4],\n",
       "       [ 9, 16]])"
      ]
     },
     "execution_count": 132,
     "metadata": {},
     "output_type": "execute_result"
    }
   ],
   "source": [
    "a * b"
   ]
  },
  {
   "cell_type": "code",
   "execution_count": 134,
   "id": "1628a101-0d48-4311-907e-3a8d64389779",
   "metadata": {
    "panel-layout": {
     "height": 44.275001525878906,
     "visible": true,
     "width": 100
    }
   },
   "outputs": [
    {
     "data": {
      "text/plain": [
       "array([[1.        , 1.41421356],\n",
       "       [1.73205081, 2.        ]])"
      ]
     },
     "execution_count": 134,
     "metadata": {},
     "output_type": "execute_result"
    }
   ],
   "source": [
    "np.sqrt (a)"
   ]
  },
  {
   "cell_type": "code",
   "execution_count": 136,
   "id": "c72594f7-57dc-41c5-89c2-82658f814731",
   "metadata": {
    "panel-layout": {
     "height": 44.275001525878906,
     "visible": true,
     "width": 100
    }
   },
   "outputs": [
    {
     "data": {
      "text/plain": [
       "array([[ 2.71828183,  7.3890561 ],\n",
       "       [20.08553692, 54.59815003]])"
      ]
     },
     "execution_count": 136,
     "metadata": {},
     "output_type": "execute_result"
    }
   ],
   "source": [
    "np.exp(a)"
   ]
  },
  {
   "cell_type": "code",
   "execution_count": 138,
   "id": "5b380796-4879-4897-ac58-71e01c2fdec5",
   "metadata": {
    "panel-layout": {
     "height": 44.275001525878906,
     "visible": true,
     "width": 100
    }
   },
   "outputs": [
    {
     "data": {
      "text/plain": [
       "array([[ 0.84147098,  0.90929743],\n",
       "       [ 0.14112001, -0.7568025 ]])"
      ]
     },
     "execution_count": 138,
     "metadata": {},
     "output_type": "execute_result"
    }
   ],
   "source": [
    "np.sin(a)"
   ]
  },
  {
   "cell_type": "code",
   "execution_count": 140,
   "id": "d212ff17-c13a-4e7b-9491-ac087b99e815",
   "metadata": {
    "panel-layout": {
     "height": 44.275001525878906,
     "visible": true,
     "width": 100
    }
   },
   "outputs": [
    {
     "data": {
      "text/plain": [
       "array([[-1, -2],\n",
       "       [-3, -4]])"
      ]
     },
     "execution_count": 140,
     "metadata": {},
     "output_type": "execute_result"
    }
   ],
   "source": [
    "np.negative (a)"
   ]
  },
  {
   "cell_type": "code",
   "execution_count": 142,
   "id": "998ec561-a04b-4c8a-b661-5d7615c9fcef",
   "metadata": {
    "panel-layout": {
     "height": 27.137500762939453,
     "visible": true,
     "width": 100
    }
   },
   "outputs": [
    {
     "data": {
      "text/plain": [
       "2.5"
      ]
     },
     "execution_count": 142,
     "metadata": {},
     "output_type": "execute_result"
    }
   ],
   "source": [
    "a.mean()"
   ]
  },
  {
   "cell_type": "code",
   "execution_count": 144,
   "id": "ce9f1186-4440-42ee-8dc8-2bd342caa914",
   "metadata": {},
   "outputs": [
    {
     "data": {
      "text/plain": [
       "1"
      ]
     },
     "execution_count": 144,
     "metadata": {},
     "output_type": "execute_result"
    }
   ],
   "source": [
    "a.min()"
   ]
  },
  {
   "cell_type": "code",
   "execution_count": 146,
   "id": "ef3937c8-e421-46d1-a84c-a60e0f99f536",
   "metadata": {},
   "outputs": [
    {
     "data": {
      "text/plain": [
       "4"
      ]
     },
     "execution_count": 146,
     "metadata": {},
     "output_type": "execute_result"
    }
   ],
   "source": [
    "a.max()"
   ]
  },
  {
   "cell_type": "code",
   "execution_count": 150,
   "id": "d27a4102-739f-48f7-aa2b-62a040e80db0",
   "metadata": {},
   "outputs": [
    {
     "data": {
      "text/plain": [
       "10"
      ]
     },
     "execution_count": 150,
     "metadata": {},
     "output_type": "execute_result"
    }
   ],
   "source": [
    "a.sum()"
   ]
  },
  {
   "cell_type": "code",
   "execution_count": 152,
   "id": "4a9116ed-63a0-442b-a356-1535ce874728",
   "metadata": {},
   "outputs": [
    {
     "data": {
      "text/plain": [
       "array([ 1,  3,  6, 10])"
      ]
     },
     "execution_count": 152,
     "metadata": {},
     "output_type": "execute_result"
    }
   ],
   "source": [
    "a.cumsum()"
   ]
  },
  {
   "cell_type": "code",
   "execution_count": 154,
   "id": "23391e78-c496-4f87-81f8-82a786c814c0",
   "metadata": {},
   "outputs": [
    {
     "data": {
      "text/plain": [
       "array([[1, 2],\n",
       "       [3, 4]])"
      ]
     },
     "execution_count": 154,
     "metadata": {},
     "output_type": "execute_result"
    }
   ],
   "source": [
    "a"
   ]
  },
  {
   "cell_type": "code",
   "execution_count": null,
   "id": "4088af26-6b2f-46f2-831b-abff2024dcf6",
   "metadata": {},
   "outputs": [],
   "source": []
  },
  {
   "cell_type": "code",
   "execution_count": 156,
   "id": "33ecd945-bdb8-4ad8-ae87-0e8f8d2d655d",
   "metadata": {},
   "outputs": [
    {
     "data": {
      "text/plain": [
       "array([[1, 2],\n",
       "       [3, 4]])"
      ]
     },
     "execution_count": 156,
     "metadata": {},
     "output_type": "execute_result"
    }
   ],
   "source": [
    "b"
   ]
  },
  {
   "cell_type": "code",
   "execution_count": 158,
   "id": "e96b6e48-542a-4a5a-8931-b78a46a5aed7",
   "metadata": {},
   "outputs": [],
   "source": [
    "c = np.array([7,8,9])"
   ]
  },
  {
   "cell_type": "code",
   "execution_count": 160,
   "id": "eecc0d83-c378-47ea-bdaa-cffa971acfac",
   "metadata": {},
   "outputs": [
    {
     "data": {
      "text/plain": [
       "array([[1, 2],\n",
       "       [3, 4],\n",
       "       [1, 2],\n",
       "       [3, 4]])"
      ]
     },
     "execution_count": 160,
     "metadata": {},
     "output_type": "execute_result"
    }
   ],
   "source": [
    "np.concatenate((a,b))"
   ]
  },
  {
   "cell_type": "code",
   "execution_count": 164,
   "id": "3cb64d19-d351-4387-ba1c-9a2c96f7a803",
   "metadata": {},
   "outputs": [
    {
     "data": {
      "text/plain": [
       "array([[1, 2],\n",
       "       [3, 4],\n",
       "       [1, 2],\n",
       "       [3, 4]])"
      ]
     },
     "execution_count": 164,
     "metadata": {},
     "output_type": "execute_result"
    }
   ],
   "source": [
    "np.concatenate ((a,b), axis = 0)"
   ]
  },
  {
   "cell_type": "code",
   "execution_count": 166,
   "id": "2d4dc21f-e3ec-46c6-875e-e0c0c243fb28",
   "metadata": {},
   "outputs": [
    {
     "data": {
      "text/plain": [
       "array([[1, 2, 1, 2],\n",
       "       [3, 4, 3, 4]])"
      ]
     },
     "execution_count": 166,
     "metadata": {},
     "output_type": "execute_result"
    }
   ],
   "source": [
    "np.concatenate ((a,b), axis = 1)"
   ]
  },
  {
   "cell_type": "code",
   "execution_count": null,
   "id": "505a81ca-30a1-494c-a142-84ca246bf4b1",
   "metadata": {},
   "outputs": [],
   "source": []
  }
 ],
 "metadata": {
  "kernelspec": {
   "display_name": "Python [conda env:base] *",
   "language": "python",
   "name": "conda-base-py"
  },
  "language_info": {
   "codemirror_mode": {
    "name": "ipython",
    "version": 3
   },
   "file_extension": ".py",
   "mimetype": "text/x-python",
   "name": "python",
   "nbconvert_exporter": "python",
   "pygments_lexer": "ipython3",
   "version": "3.12.7"
  },
  "panel-cell-order": [
   "79fc3471-54c5-4e66-aa23-cac772450bea",
   "ea14372d-e489-48ba-9add-3adc876d6296",
   "a1fb5308-cd7f-4ab6-ad57-69da279270f5",
   "7e1821a8-6cb7-4f0f-9948-c0fc7a0a222d",
   "ebd9bdf8-a6f5-4f9d-8329-a40453ff0e87",
   "5217677b-4e77-4770-8d31-00fdf3988203",
   "edc09930-4840-4c9f-944e-8957fcbe597e",
   "a12b5a2b-0dfe-4e04-8d3c-4e1116486536",
   "72d36c46-7328-4b14-b0c1-9e5c58d091c3",
   "2c503172-b927-4a0e-8dbc-a5aa40c3bfc9",
   "852f9914-b818-4a39-b802-7590bc455a29",
   "33ae7bc9-835f-472a-b3f4-dcc00645d13e",
   "5ddb2403-df8b-495f-93b7-b662bf624ba6",
   "d87b80d6-9004-41f3-a4dc-cbd2d4530bc7",
   "c76bc879-698e-43cf-b033-73242c9d9456",
   "c3b6168c-37bf-4ee1-8d75-adfd71e4bc57",
   "59bc40db-e6b3-49d3-8f8b-f057b1685175",
   "23eeb9c1-d65b-4990-b4ef-13e49b2f32ab",
   "b576c2bb-29cc-4412-9a8f-659ff9bd098f",
   "b2dc20d5-de52-4589-b523-506a573ed63b",
   "09f4de68-a502-4da6-918b-e2044777481b",
   "8249336f-4702-4082-b5ad-25821b9a1b44",
   "eed1273d-4dc6-426c-bdd3-41f7a4b78b3b",
   "04ff1475-777d-4691-850b-1efe279b9110",
   "7f5771e6-e008-4921-8b27-bda5943f013b",
   "d131885b-f53f-4e8e-b951-0df349fbf179",
   "6d6f55a4-a4b0-489d-9329-936061d2cdc2",
   "bd64a044-7119-4945-8eb3-57838f2d5f17",
   "729e0217-fbc7-44f4-8a37-71926c60837f",
   "3b84ace4-cccc-4c24-b394-057cf11bfa21",
   "00b062a0-ba00-42c8-9138-462fe3f23962",
   "7868e17f-24f0-4a88-9a75-000077a199b5",
   "0787d9aa-ce2e-4036-8b6c-e3a6c6666315",
   "8cc497d7-0b34-4bb3-a81d-7c7ed28d2537",
   "ce41a1ef-1c32-47f7-98b4-87fdad8ce534",
   "ef62c213-5095-40ca-be52-9400cb194e05",
   "d808a153-8a7e-441d-b244-763ba3c432bd",
   "1628a101-0d48-4311-907e-3a8d64389779",
   "c72594f7-57dc-41c5-89c2-82658f814731",
   "5b380796-4879-4897-ac58-71e01c2fdec5",
   "d212ff17-c13a-4e7b-9491-ac087b99e815",
   "998ec561-a04b-4c8a-b661-5d7615c9fcef"
  ]
 },
 "nbformat": 4,
 "nbformat_minor": 5
}
