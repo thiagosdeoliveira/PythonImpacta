{
 "cells": [
  {
   "cell_type": "code",
   "execution_count": 5,
   "id": "5acf69c0-9555-407a-ade6-099271c56b7e",
   "metadata": {},
   "outputs": [],
   "source": [
    "#Dicionarios\n",
    "#Dicionario é uma coleção não ordenada, cada elemento possui chave. Para ação a string começa com\n",
    "# { e seguido do valor ficando CHAVE:VALOR"
   ]
  },
  {
   "cell_type": "code",
   "execution_count": 11,
   "id": "690d9c81-3c6e-4521-bc6e-0d46c1130209",
   "metadata": {},
   "outputs": [],
   "source": [
    "cadastro ={'nome':'Tania', 'idade':35, 'fruta':'uva', 'cor':'roxa', 'musica':'pop'}"
   ]
  },
  {
   "cell_type": "code",
   "execution_count": 15,
   "id": "f9e66afd-0a5a-4213-99f8-a1ef2c39827f",
   "metadata": {},
   "outputs": [
    {
     "data": {
      "text/plain": [
       "'Tania'"
      ]
     },
     "execution_count": 15,
     "metadata": {},
     "output_type": "execute_result"
    }
   ],
   "source": [
    "cadastro ['nome']"
   ]
  },
  {
   "cell_type": "code",
   "execution_count": 47,
   "id": "011cbfec-417f-4b8b-9b68-58f9c47faa01",
   "metadata": {},
   "outputs": [
    {
     "data": {
      "text/plain": [
       "{'nome': 'Tania', 'idade': 35, 'fruta': 'uva', 'cor': 'roxa', 'musica': 'pop'}"
      ]
     },
     "execution_count": 47,
     "metadata": {},
     "output_type": "execute_result"
    }
   ],
   "source": [
    "tupla_1 = ('nome', 'Tania')\n",
    "tupla_2 = ('idade', 35)\n",
    "tupla_3 = ('fruta', 'uva')\n",
    "tupla_4 = ('cor','roxa')\n",
    "tupla_5 = ('musica','pop')\n",
    "lista_tuplas = [ tupla_1,tupla_2,tupla_3,tupla_4,tupla_5]\n",
    "cadastro = dict(lista_tuplas)\n",
    "cadastro"
   ]
  },
  {
   "cell_type": "code",
   "execution_count": 27,
   "id": "72e5ce90-da4f-43e3-9ecd-d166668b878c",
   "metadata": {},
   "outputs": [],
   "source": [
    "# dict = dicionario "
   ]
  },
  {
   "cell_type": "code",
   "execution_count": 29,
   "id": "2fd4da44-8f29-4e3a-a5fb-2c14fa677e41",
   "metadata": {},
   "outputs": [],
   "source": [
    "#alterar ou inserir um item no dicionario\n",
    "# string [informação que quero alterar] = valor a ser alterado"
   ]
  },
  {
   "cell_type": "code",
   "execution_count": 31,
   "id": "2107f05a-6057-4a00-b5d3-e1ed2192e619",
   "metadata": {},
   "outputs": [],
   "source": [
    "cadastro['fruta'] = 'pera'"
   ]
  },
  {
   "cell_type": "code",
   "execution_count": 33,
   "id": "8ef90f17-f427-4778-803e-230c8766e3d8",
   "metadata": {},
   "outputs": [
    {
     "data": {
      "text/plain": [
       "{'nome': 'Tania', 'idade': 35, 'fruta': 'pera', 'cor': 'roxa', 'musica': 'pop'}"
      ]
     },
     "execution_count": 33,
     "metadata": {},
     "output_type": "execute_result"
    }
   ],
   "source": [
    "cadastro"
   ]
  },
  {
   "cell_type": "code",
   "execution_count": 53,
   "id": "941adade-95f7-484a-a333-7902bdd2bb2a",
   "metadata": {},
   "outputs": [],
   "source": [
    "cadastro['sobrenome'] = 'Silva'"
   ]
  },
  {
   "cell_type": "code",
   "execution_count": 55,
   "id": "129c8829-f955-4260-b757-bd2e4266c4a8",
   "metadata": {},
   "outputs": [
    {
     "data": {
      "text/plain": [
       "{'nome': 'Tania',\n",
       " 'idade': 35,\n",
       " 'fruta': 'uva',\n",
       " 'cor': 'roxa',\n",
       " 'musica': 'pop',\n",
       " 'sobrenome': 'Silva'}"
      ]
     },
     "execution_count": 55,
     "metadata": {},
     "output_type": "execute_result"
    }
   ],
   "source": [
    "cadastro"
   ]
  },
  {
   "cell_type": "code",
   "execution_count": null,
   "id": "4f8d6de2-e550-4861-8e89-f0214dc5269c",
   "metadata": {
    "scrolled": true
   },
   "outputs": [],
   "source": [
    "del cadastro['musica']"
   ]
  },
  {
   "cell_type": "code",
   "execution_count": 61,
   "id": "3446fa3c-09bd-4893-809c-6138527d5f71",
   "metadata": {},
   "outputs": [
    {
     "data": {
      "text/plain": [
       "{'nome': 'Tania',\n",
       " 'idade': 35,\n",
       " 'fruta': 'uva',\n",
       " 'cor': 'roxa',\n",
       " 'sobrenome': 'Silva'}"
      ]
     },
     "execution_count": 61,
     "metadata": {},
     "output_type": "execute_result"
    }
   ],
   "source": [
    "#del = comando deletar informação no exemplo, deletou o item musica da lista"
   ]
  },
  {
   "cell_type": "code",
   "execution_count": 69,
   "id": "4b681d73-ba1a-413f-8947-ef23040e80d6",
   "metadata": {},
   "outputs": [],
   "source": [
    "cadastro.update({'nome':'Ana', 'idade':27, 'fruta':'pera'})\n",
    "#string+.updade = atualizar informação"
   ]
  },
  {
   "cell_type": "code",
   "execution_count": 67,
   "id": "7c1cff02-c3fa-45f7-aa3e-89f96c19c80b",
   "metadata": {},
   "outputs": [
    {
     "data": {
      "text/plain": [
       "{'nome': 'Ana',\n",
       " 'idade': 27,\n",
       " 'fruta': 'pera',\n",
       " 'cor': 'roxa',\n",
       " 'sobrenome': 'Silva'}"
      ]
     },
     "execution_count": 67,
     "metadata": {},
     "output_type": "execute_result"
    }
   ],
   "source": [
    "cadastro"
   ]
  },
  {
   "cell_type": "code",
   "execution_count": 91,
   "id": "8d87e62e-178c-4aaa-9939-a8e4e961a7fe",
   "metadata": {},
   "outputs": [
    {
     "name": "stdin",
     "output_type": "stream",
     "text": [
      "Escreva seu nome:  Xixica\n"
     ]
    }
   ],
   "source": [
    "nome = input('Escreva seu nome: ')"
   ]
  },
  {
   "cell_type": "code",
   "execution_count": 93,
   "id": "e1bd39cd-2e4a-41e3-b83c-ed9f0cd6d6ca",
   "metadata": {},
   "outputs": [
    {
     "data": {
      "text/plain": [
       "'Xixica'"
      ]
     },
     "execution_count": 93,
     "metadata": {},
     "output_type": "execute_result"
    }
   ],
   "source": [
    "nome"
   ]
  },
  {
   "cell_type": "code",
   "execution_count": 79,
   "id": "11a89160-9df9-447b-9d45-83937691e714",
   "metadata": {},
   "outputs": [
    {
     "name": "stdin",
     "output_type": "stream",
     "text": [
      "Qual a sua idade:  10\n"
     ]
    }
   ],
   "source": [
    "idade = int(input('Qual a sua idade: '))"
   ]
  },
  {
   "cell_type": "code",
   "execution_count": 81,
   "id": "47ae6389-99c3-4e9c-9219-b323fb328ecf",
   "metadata": {},
   "outputs": [
    {
     "data": {
      "text/plain": [
       "10"
      ]
     },
     "execution_count": 81,
     "metadata": {},
     "output_type": "execute_result"
    }
   ],
   "source": [
    "idade"
   ]
  },
  {
   "cell_type": "code",
   "execution_count": 83,
   "id": "cfacb375-08ff-4573-9558-fe44f8a4f06f",
   "metadata": {},
   "outputs": [
    {
     "name": "stdin",
     "output_type": "stream",
     "text": [
      "Qual a sua altura:__.__ 1.83\n"
     ]
    }
   ],
   "source": [
    "altura = float(input('Qual a sua altura: '))"
   ]
  },
  {
   "cell_type": "code",
   "execution_count": 85,
   "id": "6e1c69c0-2c22-4226-beac-4e3527596137",
   "metadata": {},
   "outputs": [
    {
     "data": {
      "text/plain": [
       "1.83"
      ]
     },
     "execution_count": 85,
     "metadata": {},
     "output_type": "execute_result"
    }
   ],
   "source": [
    "altura"
   ]
  },
  {
   "cell_type": "code",
   "execution_count": 95,
   "id": "24e834ff-06ed-4360-bf35-428ad21c1df7",
   "metadata": {},
   "outputs": [
    {
     "name": "stdout",
     "output_type": "stream",
     "text": [
      "Xixica\n"
     ]
    }
   ],
   "source": [
    "print(nome)"
   ]
  },
  {
   "cell_type": "code",
   "execution_count": 99,
   "id": "3dbcced7-1495-421f-b166-310c3a7aa7fc",
   "metadata": {},
   "outputs": [
    {
     "name": "stdout",
     "output_type": "stream",
     "text": [
      "Seu nome é Xixica.\n"
     ]
    }
   ],
   "source": [
    "print('Seu nome é %s.'%nome)"
   ]
  },
  {
   "cell_type": "code",
   "execution_count": 107,
   "id": "76708d3f-5a99-42e7-97ee-109b452dcc60",
   "metadata": {},
   "outputs": [
    {
     "name": "stdout",
     "output_type": "stream",
     "text": [
      "É muita água Xixica é muita água\n"
     ]
    }
   ],
   "source": [
    "print('É muita água %s'%nome,'é muita água')"
   ]
  },
  {
   "cell_type": "code",
   "execution_count": 109,
   "id": "9986b26c-7ebe-4801-9dc0-bb2476b8783d",
   "metadata": {},
   "outputs": [],
   "source": [
    "#%s string %d interios %f float"
   ]
  },
  {
   "cell_type": "code",
   "execution_count": 115,
   "id": "38f62785-2843-4f76-909d-a2323b10145b",
   "metadata": {},
   "outputs": [],
   "source": [
    "a = 3\n",
    "b = 5\n",
    "c = a * b"
   ]
  },
  {
   "cell_type": "code",
   "execution_count": 117,
   "id": "a3ec3253-e272-4bbd-8ea6-a4b767ae0a01",
   "metadata": {},
   "outputs": [
    {
     "name": "stdout",
     "output_type": "stream",
     "text": [
      "A multiplicação de 3 por 5 é: 15.00\n"
     ]
    }
   ],
   "source": [
    "print('A multiplicação de %d por %d é: %.2f' %(a,b,c))"
   ]
  },
  {
   "cell_type": "code",
   "execution_count": 134,
   "id": "08c09087-f106-41f4-9ea2-a0c6721b4eb7",
   "metadata": {},
   "outputs": [],
   "source": [
    "nome = 'Guido'\n",
    "sobrenome = 'Van Russum'"
   ]
  },
  {
   "cell_type": "code",
   "execution_count": 136,
   "id": "0e410e3b-6f7c-442d-87ba-4655db738f4f",
   "metadata": {},
   "outputs": [
    {
     "name": "stdout",
     "output_type": "stream",
     "text": [
      "O criador do python é Guido Van Russum\n"
     ]
    }
   ],
   "source": [
    "print(f\"O criador do python é {nome} {sobrenome}\")"
   ]
  },
  {
   "cell_type": "code",
   "execution_count": 138,
   "id": "4342d121-d53f-452f-b56c-238110cd8657",
   "metadata": {},
   "outputs": [],
   "source": [
    "temperatura = 35"
   ]
  },
  {
   "cell_type": "code",
   "execution_count": 142,
   "id": "81eecca3-e528-47a6-8c89-52fff63a4a0b",
   "metadata": {},
   "outputs": [
    {
     "name": "stdout",
     "output_type": "stream",
     "text": [
      "Hj está muito quente!\n"
     ]
    }
   ],
   "source": [
    "if(temperatura > 30):\n",
    "    print('Hj está muito quente!') "
   ]
  },
  {
   "cell_type": "code",
   "execution_count": 150,
   "id": "337c64e7-9c07-482f-9d11-23eb122db5d5",
   "metadata": {},
   "outputs": [],
   "source": [
    "temperatura = 18"
   ]
  },
  {
   "cell_type": "code",
   "execution_count": 146,
   "id": "1f2ac1fc-815e-4a9e-b4fc-04ac511a3ca9",
   "metadata": {},
   "outputs": [
    {
     "name": "stdout",
     "output_type": "stream",
     "text": [
      "A temperatura hj está agradável!\n"
     ]
    }
   ],
   "source": [
    "if(temperatura > 30):\n",
    "    print('Hj está muito quente!') \n",
    "else:\n",
    "    print('A temperatura hj está agradável!')"
   ]
  },
  {
   "cell_type": "code",
   "execution_count": 152,
   "id": "3b2facb1-b9ad-44f5-aebf-1443019212c1",
   "metadata": {},
   "outputs": [
    {
     "name": "stdout",
     "output_type": "stream",
     "text": [
      "o tempo está mudando\n"
     ]
    }
   ],
   "source": [
    "if(temperatura > 30):\n",
    "    print('Hj está muito quente!') \n",
    "elif(temperatura > 25):\n",
    "    print('A temperatura hj está agradável!')\n",
    "elif(temperatura > 15):\n",
    "    print('o tempo está mudando')\n",
    "else:\n",
    "    print('A temperatura hj está agradável!')"
   ]
  },
  {
   "cell_type": "code",
   "execution_count": 156,
   "id": "981b9367-a1aa-44d7-9e28-0d776bcf16dd",
   "metadata": {},
   "outputs": [],
   "source": [
    "# if: Inicia uma condição. Se a condição do if for verdadeira, o bloco de código associado a ele é executado.\n",
    "# elif: É uma abreviação de \"else if\". Ele é usado para verificar condições adicionais \n",
    "#     se a condição do if anterior for falsa. Você pode ter vários elif em uma estrutura condicional.\n",
    "# else: É usado para especificar um bloco de código que deve ser executado se \n",
    "#     nenhuma das condições if ou elif anteriores for verdadeira.\n",
    "# \n",
    "\n",
    "    #x = 10\n",
    "\n",
    "    #if x > 15:\n",
    "        #print(\"x é maior que 15\")\n",
    "    #elif x > 5:\n",
    "        #print(\"x é maior que 5, mas não maior que 15\")\n",
    "    #else:\n",
    "        #print(\"x é menor ou igual a 5\") "
   ]
  },
  {
   "cell_type": "code",
   "execution_count": 172,
   "id": "1529e325-9d5e-41f7-89ce-f3ad70f95a39",
   "metadata": {},
   "outputs": [],
   "source": [
    "#"
   ]
  },
  {
   "cell_type": "code",
   "execution_count": 174,
   "id": "3c4e40f2-b61a-4d20-9562-4d834d50baa0",
   "metadata": {},
   "outputs": [
    {
     "name": "stdout",
     "output_type": "stream",
     "text": [
      "abacate\n",
      "pera\n",
      "abacaxi\n"
     ]
    }
   ],
   "source": [
    "for x in x2:\n",
    "    print(x)"
   ]
  },
  {
   "cell_type": "code",
   "execution_count": 176,
   "id": "6dd68724-2fb8-42a9-8886-0376fe7ae9b8",
   "metadata": {},
   "outputs": [
    {
     "name": "stdout",
     "output_type": "stream",
     "text": [
      "abacaxi\n"
     ]
    }
   ],
   "source": [
    "print(x)"
   ]
  },
  {
   "cell_type": "code",
   "execution_count": 178,
   "id": "a4ae75bb-370c-4600-922f-825dd65ebafc",
   "metadata": {},
   "outputs": [
    {
     "name": "stdout",
     "output_type": "stream",
     "text": [
      "abacaxi\n"
     ]
    }
   ],
   "source": [
    "print(x)"
   ]
  },
  {
   "cell_type": "code",
   "execution_count": 180,
   "id": "738b26e5-d34a-49b9-b478-01d3dfb72bf7",
   "metadata": {},
   "outputs": [
    {
     "name": "stdout",
     "output_type": "stream",
     "text": [
      "abacaxi\n"
     ]
    }
   ],
   "source": [
    "    print(x)"
   ]
  },
  {
   "cell_type": "code",
   "execution_count": null,
   "id": "0cbdf85d-36f0-4a5f-925a-942b9bcbf53a",
   "metadata": {},
   "outputs": [],
   "source": [
    "#### Em Python, o loop for é uma estrutura de controle de fluxo fundamental usada para iteração. Ele permite executar repetidamente um bloco de código para cada item em uma sequência, como uma lista, tupla, string ou intervalo. Aqui está uma visão geral abrangente:\n",
    "\n",
    "Sintaxe Básica:\n",
    "\n",
    "Python\n",
    "\n",
    "for item in sequência:\n",
    "     Código a ser executado para cada item\n",
    "for: A palavra-chave que inicia o loop.\n",
    "item: Uma variável que assume o valor de cada elemento na sequência durante cada iteração. Você pode escolher qualquer nome de variável válido.\n",
    "in: A palavra-chave que especifica a sequência a ser iterada.\n",
    "sequência: A coleção de itens que você deseja iterar.\n",
    "O bloco de código indentado é executado uma vez para cada item na sequência.\n",
    "Exemplos:\n",
    "\n",
    "Iterando sobre uma lista:\n",
    "Python\n",
    "\n",
    "    frutas = [\"maçã\", \"banana\", \"cereja\"]\n",
    "   for fruta in frutas:\n",
    "        print(fruta)\n",
    "Saída:\n",
    "\n",
    "    maçã\n",
    "    banana\n",
    "    cereja\n",
    "Iterando sobre uma string:\n",
    "Python\n",
    "\n",
    "    texto = \"Python\"\n",
    "    for caractere in texto:\n",
    "        print(caractere)\n",
    "Saída:\n",
    "\n",
    "    P\n",
    "    y\n",
    "    t\n",
    "    h\n",
    "    o\n",
    "    n\n",
    "Usando range():\n",
    "A função range() gera uma sequência de números.\n",
    "Python\n",
    "\n",
    "   for i in range(5): # Gera números de 0 a 4\n",
    "        print(i)\n",
    "Saída:\n",
    "\n",
    "    0\n",
    "    1\n",
    "    2\n",
    "    3\n",
    "    4\n",
    "range(início, fim): Gera números de início (inclusive) a fim (exclusivo).\n",
    "range(início, fim, passo): Gera números de início a fim com um passo especificado.\n",
    "Python\n",
    "\n",
    "    for i in range(2, 10, 2): # de 2 a 9, pulando de 2 em 2.\n",
    "        print(i)\n",
    "Saída:\n",
    "\n",
    "    2\n",
    "    4\n",
    "    6\n",
    "    8\n",
    "Iterando sobre um dicionário:\n",
    "Ao iterar sobre um dicionário, você itera sobre suas chaves por padrão.\n",
    "Python\n",
    "\n",
    "    #meu_dicionario = {\"a\": 1, \"b\": 2, \"c\": 3}\n",
    "   # for chave in meu_dicionario:\n",
    "    #    print(chave, meu_dicionario[chave])\n",
    "Saída:\n",
    "\n",
    "    #a 1\n",
    "    #b 2\n",
    "    #c 3\n",
    "#Para iterar sobre pares de chave-valor, use .items():\n",
    "Python\n",
    "\n",
    "    #for chave, valor in meu_dicionario.items():\n",
    "        #print(chave, valor)"
   ]
  },
  {
   "cell_type": "code",
   "execution_count": 184,
   "id": "4f0eedc6-5a59-4af6-9496-e7192a40d454",
   "metadata": {},
   "outputs": [
    {
     "name": "stdout",
     "output_type": "stream",
     "text": [
      "abacate\n",
      "abacaxi\n"
     ]
    }
   ],
   "source": [
    "fruta = ['abacate', 'pera', 'abacaxi']\n",
    "for fruta in frutas:\n",
    "    if fruta.startswith('a'):\n",
    "        print(fruta)"
   ]
  },
  {
   "cell_type": "code",
   "execution_count": 186,
   "id": "1d7bec85-d7fb-48f2-87e2-5a839cd84040",
   "metadata": {},
   "outputs": [
    {
     "name": "stdout",
     "output_type": "stream",
     "text": [
      "1\n",
      "3\n",
      "6\n",
      "10\n",
      "15\n"
     ]
    }
   ],
   "source": [
    "lista_num = [1,2,3,4,5]\n",
    "soma = 0\n",
    "for numero in lista_num:\n",
    "    soma = soma + numero\n",
    "    print(soma)\n"
   ]
  },
  {
   "cell_type": "code",
   "execution_count": 188,
   "id": "af578a31-9507-47c9-8f35-d5b86d3d3e35",
   "metadata": {},
   "outputs": [
    {
     "name": "stdout",
     "output_type": "stream",
     "text": [
      "15\n"
     ]
    }
   ],
   "source": [
    "lista_num = [1,2,3,4,5]\n",
    "soma = 0\n",
    "for numero in lista_num:\n",
    "    soma = soma + numero\n",
    "print(soma)"
   ]
  },
  {
   "cell_type": "code",
   "execution_count": 194,
   "id": "16dc5496-53eb-4000-807c-c5e78048997d",
   "metadata": {},
   "outputs": [
    {
     "name": "stdout",
     "output_type": "stream",
     "text": [
      "15\n"
     ]
    }
   ],
   "source": [
    "condicao = 1 \n",
    "soma = 0 \n",
    "while condicao <= 5:\n",
    "    soma = soma + condicao\n",
    "    condicao = condicao + 1\n",
    "print(soma)"
   ]
  },
  {
   "cell_type": "code",
   "execution_count": null,
   "id": "a0fa9aba-6e8f-4453-826e-5358aa664ba7",
   "metadata": {
    "scrolled": true
   },
   "outputs": [],
   "source": [
    "# # # # # # # \n",
    "\n",
    "while condição:\n",
    "Código a ser executado enquanto a condição for verdadeira\n",
    "while: A palavra-chave que inicia o loop.\n",
    "condição: Uma expressão que avalia para #True (verdadeiro) ou False (falso).\n",
    "O bloco de código indentado é executado repetidamente enquanto a condição #for True.\n",
    "Características Principais:\n",
    "\n",
    "Baseado em Condição: A execução do loop depende inteiramente da veracidade da condição.\n",
    "Potencial para Loops Infinitos: Se a condição nunca se tornar #False, o loop será executado indefinidamente. Portanto, é crucial garantir que a condição eventualmente se torne False dentro do corpo do loop.\n",
    "Casos de Uso: Os loops #while são ideais quando você não sabe antecipadamente quantas vezes precisa repetir um bloco de código.\n",
    "Exemplos:\n",
    "\n",
    "Contador Simples:\n",
    "Python\n",
    "\n",
    "  contador = 0\n",
    "  while contador < 5:\n",
    "      print(contador)\n",
    "       contador += 1\n",
    "Saída:\n",
    "\n",
    "  0\n",
    "  1\n",
    "  2\n",
    "  3\n",
    "  4\n",
    "Entrada do Usuário:\n",
    "Python\n",
    "\n",
    "    entrada_usuario = \"\"\n",
    "  while entrada_usuario != \"sair\":\n",
    "        entrada_usuario = input(\"Digite 'sair' para encerrar: \")\n",
    "     print(\"Você digitou:\", entrada_usuario)\n",
    "Este loop continua a solicitar a entrada do usuário até que ele digite \"sair\".\n",
    "\n",
    "Usando break e continue:\n",
    "break: Encerra o loop prematuramente.\n",
    "continue: Pula o restante da iteração atual e prossegue para a próxima.\n",
    " Python\n",
    "\n",
    "    i = 0\n",
    "    while i < 10:\n",
    "        i += 1\n",
    "        if i % 2 == 0:\n",
    "            continue  # Pula números pares\n",
    "        if i > 7:\n",
    "            break  # Sai do loop quando i é maior que 7\n",
    "        print(i)\n",
    "Considerações Importantes:\n",
    "\n",
    "Sempre garanta que seu loop while tenha um mecanismo para eventualmente tornar a condição False para evitar loops infinitos.\n",
    "Os loops while são muito úteis para situações em que você não sabe quantas iterações serão necessárias."
   ]
  },
  {
   "cell_type": "code",
   "execution_count": 207,
   "id": "b8b3b3eb-add2-43c0-8621-45bb8efee484",
   "metadata": {},
   "outputs": [
    {
     "name": "stdout",
     "output_type": "stream",
     "text": [
      "5\n",
      "9\n",
      "12\n",
      "14\n",
      "15\n",
      "15\n"
     ]
    }
   ],
   "source": [
    "condicao = 5\n",
    "soma = 0\n",
    "while condicao >= 0:\n",
    "    soma = soma + condicao\n",
    "    condicao = condicao - 1\n",
    "    print(soma)\n",
    "\n",
    "# 0+5 = 5\n",
    "# 5+4 = 9\n",
    "# 9+3 = 12 \n",
    "# 12+2 = 14\n",
    "# 15+1 = 15\n",
    "# 15+0 = 15"
   ]
  },
  {
   "cell_type": "code",
   "execution_count": 205,
   "id": "7b95bbbf-547f-4ba8-9bf9-b442eb82adb6",
   "metadata": {},
   "outputs": [
    {
     "name": "stdout",
     "output_type": "stream",
     "text": [
      "4\n",
      "3\n",
      "2\n",
      "1\n",
      "0\n",
      "-1\n"
     ]
    }
   ],
   "source": [
    "condicao = 5\n",
    "soma = 0\n",
    "while condicao >= 0:\n",
    "    soma = soma + condicao\n",
    "    condicao = condicao - 1\n",
    "    print(condicao)\n",
    "# 5-1 = 4\n",
    "# 4-1 = 3\n",
    "# 3-1 = 2 \n",
    "# 2-1 = 1\n",
    "# 1-1 = 0\n",
    "# 0-1 = -1"
   ]
  },
  {
   "cell_type": "code",
   "execution_count": 219,
   "id": "01a70d6d-bd55-4d19-a49f-6af54614d461",
   "metadata": {},
   "outputs": [],
   "source": [
    "def DizOi():\n",
    "    print(\"Oi\")"
   ]
  },
  {
   "cell_type": "code",
   "execution_count": 221,
   "id": "c04499e1-6758-4ae1-aff7-c365a9803356",
   "metadata": {},
   "outputs": [
    {
     "name": "stdout",
     "output_type": "stream",
     "text": [
      "Oi\n"
     ]
    }
   ],
   "source": [
    "DizOi()"
   ]
  },
  {
   "cell_type": "code",
   "execution_count": 223,
   "id": "a1b4fca8-c200-4847-b661-c4ca67919319",
   "metadata": {},
   "outputs": [],
   "source": [
    "def DizOi(nome, sobrenome):\n",
    "    print(f\"Olá {nome} {sobrenome}!\")"
   ]
  },
  {
   "cell_type": "code",
   "execution_count": 227,
   "id": "998dd488-d2fc-4166-bc94-c15dfe66308c",
   "metadata": {},
   "outputs": [
    {
     "name": "stdout",
     "output_type": "stream",
     "text": [
      "Olá Guido Van R.!\n"
     ]
    }
   ],
   "source": [
    "DizOi(\"Guido\", \"Van R.\")"
   ]
  },
  {
   "cell_type": "code",
   "execution_count": null,
   "id": "2865859d-f219-45c8-8918-b3b44de14a95",
   "metadata": {
    "scrolled": true
   },
   "outputs": [],
   "source": [
    "###\n",
    "def é uma palavra-chave usada para definir uma função. Uma função é um bloco de código organizado e reutilizável que executa uma tarefa específica. Aqui está uma explicação detalhada:\n",
    "\n",
    "O que é uma função em Python?\n",
    "\n",
    "Bloco de código reutilizável: Uma função agrupa um conjunto de instruções que podem ser chamadas repetidamente em diferentes partes do seu programa.\n",
    "Organização do código: As funções ajudam a dividir programas complexos em partes menores e gerenciáveis, tornando o código mais legível e fácil de manter.\n",
    "Modularidade: As funções promovem a modularidade, permitindo que você crie componentes independentes que podem ser reutilizados em outros projetos.\n",
    "Sintaxe da definição de função em Python:\n",
    "\n",
    "Python\n",
    "\n",
    "def nome_da_funcao(parametros):\n",
    "    \"\"\"Docstring da função (opcional)\"\"\"\n",
    "    # Bloco de código da função\n",
    "    return valor_de_retorno (opcional)\n",
    "def: A palavra-chave que inicia a definição da função.\n",
    "nome_da_funcao: O nome que você dá à sua função. Siga as convenções de nomenclatura do Python (use letras minúsculas e sublinhados para separar palavras).\n",
    "parametros: Valores de entrada que a função recebe (opcional). Os parâmetros são especificados entre parênteses e separados por vírgulas.\n",
    "Docstring: Uma string de documentação opcional que descreve o que a função faz. É uma boa prática incluir docstrings para tornar seu código mais claro.\n",
    "Bloco de código: As instruções que a função executa. Ele deve ser indentado.\n",
    "return: A palavra-chave que especifica o valor que a função retorna (opcional). Se não houver uma instrução return, a função retorna None por padrão.\n",
    "Exemplo:\n",
    "\n",
    "Python\n",
    "\n",
    "def saudacao(nome):\n",
    "    \"\"\"Esta função cumprimenta a pessoa passada como parâmetro.\"\"\"\n",
    "    mensagem = \"Olá, \" + nome + \"!\"\n",
    "    return mensagem\n",
    "\n",
    "resultado = saudacao(\"Maria\")\n",
    "print(resultado)  # Saída: Olá, Maria!"
   ]
  },
  {
   "cell_type": "code",
   "execution_count": null,
   "id": "4699a1d9-8a55-4125-920b-ec9c8a35dd6a",
   "metadata": {},
   "outputs": [],
   "source": []
  }
 ],
 "metadata": {
  "kernelspec": {
   "display_name": "Python [conda env:base] *",
   "language": "python",
   "name": "conda-base-py"
  },
  "language_info": {
   "codemirror_mode": {
    "name": "ipython",
    "version": 3
   },
   "file_extension": ".py",
   "mimetype": "text/x-python",
   "name": "python",
   "nbconvert_exporter": "python",
   "pygments_lexer": "ipython3",
   "version": "3.12.7"
  }
 },
 "nbformat": 4,
 "nbformat_minor": 5
}
